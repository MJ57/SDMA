{
 "cells": [
  {
   "cell_type": "code",
   "execution_count": 1,
   "metadata": {},
   "outputs": [],
   "source": [
    "import os \n",
    "import pandas as pd\n",
    "import re \n",
    "import string\n",
    "import nltk\n",
    "from nltk.tokenize import word_tokenize\n",
    "from nltk.corpus import stopwords\n",
    "import seaborn as sns"
   ]
  },
  {
   "cell_type": "code",
   "execution_count": 2,
   "metadata": {},
   "outputs": [
    {
     "name": "stdout",
     "output_type": "stream",
     "text": [
      "Number of data points: data : 40, train : 5970 \n",
      "\n"
     ]
    }
   ],
   "source": [
    "data = pd.read_csv('twitter.csv', encoding='utf-8')\n",
    "train_data = pd.read_csv('train.csv', encoding='utf-8')\n",
    "print(f\"Number of data points: data : {data.shape[0]}, train : {train_data.shape[0]}\",'\\n')"
   ]
  },
  {
   "cell_type": "code",
   "execution_count": 3,
   "metadata": {},
   "outputs": [
    {
     "data": {
      "text/html": [
       "<div>\n",
       "<style scoped>\n",
       "    .dataframe tbody tr th:only-of-type {\n",
       "        vertical-align: middle;\n",
       "    }\n",
       "\n",
       "    .dataframe tbody tr th {\n",
       "        vertical-align: top;\n",
       "    }\n",
       "\n",
       "    .dataframe thead th {\n",
       "        text-align: right;\n",
       "    }\n",
       "</style>\n",
       "<table border=\"1\" class=\"dataframe\">\n",
       "  <thead>\n",
       "    <tr style=\"text-align: right;\">\n",
       "      <th></th>\n",
       "      <th>tweet</th>\n",
       "    </tr>\n",
       "  </thead>\n",
       "  <tbody>\n",
       "    <tr>\n",
       "      <td>0</td>\n",
       "      <td>I've watched episode S01E01 of The Mandalorian...</td>\n",
       "    </tr>\n",
       "    <tr>\n",
       "      <td>1</td>\n",
       "      <td>I'm not even a Star Wars fan but I'm out here ...</td>\n",
       "    </tr>\n",
       "    <tr>\n",
       "      <td>2</td>\n",
       "      <td>We watching The  #Mandalorian these days</td>\n",
       "    </tr>\n",
       "    <tr>\n",
       "      <td>3</td>\n",
       "      <td>Getting gnarly #workinprogress #mandalorian  p...</td>\n",
       "    </tr>\n",
       "    <tr>\n",
       "      <td>4</td>\n",
       "      <td>Am I the only one who finds baby Yoda kinda cr...</td>\n",
       "    </tr>\n",
       "  </tbody>\n",
       "</table>\n",
       "</div>"
      ],
      "text/plain": [
       "                                               tweet\n",
       "0  I've watched episode S01E01 of The Mandalorian...\n",
       "1  I'm not even a Star Wars fan but I'm out here ...\n",
       "2           We watching The  #Mandalorian these days\n",
       "3  Getting gnarly #workinprogress #mandalorian  p...\n",
       "4  Am I the only one who finds baby Yoda kinda cr..."
      ]
     },
     "execution_count": 3,
     "metadata": {},
     "output_type": "execute_result"
    }
   ],
   "source": [
    "data.head()"
   ]
  },
  {
   "cell_type": "code",
   "execution_count": 4,
   "metadata": {},
   "outputs": [
    {
     "data": {
      "text/html": [
       "<div>\n",
       "<style scoped>\n",
       "    .dataframe tbody tr th:only-of-type {\n",
       "        vertical-align: middle;\n",
       "    }\n",
       "\n",
       "    .dataframe tbody tr th {\n",
       "        vertical-align: top;\n",
       "    }\n",
       "\n",
       "    .dataframe thead th {\n",
       "        text-align: right;\n",
       "    }\n",
       "</style>\n",
       "<table border=\"1\" class=\"dataframe\">\n",
       "  <thead>\n",
       "    <tr style=\"text-align: right;\">\n",
       "      <th></th>\n",
       "      <th>emotion</th>\n",
       "      <th>Tweet</th>\n",
       "    </tr>\n",
       "  </thead>\n",
       "  <tbody>\n",
       "    <tr>\n",
       "      <td>0</td>\n",
       "      <td>negative</td>\n",
       "      <td>Not Available</td>\n",
       "    </tr>\n",
       "    <tr>\n",
       "      <td>1</td>\n",
       "      <td>neutral</td>\n",
       "      <td>IOS 9 App Transport Security. Mm need to check...</td>\n",
       "    </tr>\n",
       "    <tr>\n",
       "      <td>2</td>\n",
       "      <td>neutral</td>\n",
       "      <td>Mar if you have an iOS device, you should down...</td>\n",
       "    </tr>\n",
       "    <tr>\n",
       "      <td>3</td>\n",
       "      <td>negative</td>\n",
       "      <td>@jimmie_vanagon my phone does not run on lates...</td>\n",
       "    </tr>\n",
       "    <tr>\n",
       "      <td>4</td>\n",
       "      <td>positive</td>\n",
       "      <td>Not sure how to start your publication on iOS?...</td>\n",
       "    </tr>\n",
       "    <tr>\n",
       "      <td>...</td>\n",
       "      <td>...</td>\n",
       "      <td>...</td>\n",
       "    </tr>\n",
       "    <tr>\n",
       "      <td>5965</td>\n",
       "      <td>neutral</td>\n",
       "      <td>@YouAreMyArsenal Wouldn't surprise me if we en...</td>\n",
       "    </tr>\n",
       "    <tr>\n",
       "      <td>5966</td>\n",
       "      <td>neutral</td>\n",
       "      <td>Rib injury for Zlatan against Russia is a big ...</td>\n",
       "    </tr>\n",
       "    <tr>\n",
       "      <td>5967</td>\n",
       "      <td>neutral</td>\n",
       "      <td>Noooooo! I was hoping to see Zlatan being Zlat...</td>\n",
       "    </tr>\n",
       "    <tr>\n",
       "      <td>5968</td>\n",
       "      <td>neutral</td>\n",
       "      <td>Not Available</td>\n",
       "    </tr>\n",
       "    <tr>\n",
       "      <td>5969</td>\n",
       "      <td>neutral</td>\n",
       "      <td>Not Available</td>\n",
       "    </tr>\n",
       "  </tbody>\n",
       "</table>\n",
       "<p>5969 rows × 2 columns</p>\n",
       "</div>"
      ],
      "text/plain": [
       "       emotion                                              Tweet\n",
       "0     negative                                      Not Available\n",
       "1      neutral  IOS 9 App Transport Security. Mm need to check...\n",
       "2      neutral  Mar if you have an iOS device, you should down...\n",
       "3     negative  @jimmie_vanagon my phone does not run on lates...\n",
       "4     positive  Not sure how to start your publication on iOS?...\n",
       "...        ...                                                ...\n",
       "5965   neutral  @YouAreMyArsenal Wouldn't surprise me if we en...\n",
       "5966   neutral  Rib injury for Zlatan against Russia is a big ...\n",
       "5967   neutral  Noooooo! I was hoping to see Zlatan being Zlat...\n",
       "5968   neutral                                      Not Available\n",
       "5969   neutral                                      Not Available\n",
       "\n",
       "[5969 rows x 2 columns]"
      ]
     },
     "execution_count": 4,
     "metadata": {},
     "output_type": "execute_result"
    }
   ],
   "source": [
    "train_data = train_data[['Category', 'Tweet']]\n",
    "train_data.rename(columns={'Category': 'emotion'}, inplace=True)\n",
    "train_data = train_data[train_data['emotion'] != 'Tweet']\n",
    "train_data"
   ]
  },
  {
   "cell_type": "markdown",
   "metadata": {},
   "source": [
    "## Count Train "
   ]
  },
  {
   "cell_type": "code",
   "execution_count": 15,
   "metadata": {},
   "outputs": [
    {
     "data": {
      "text/plain": [
       "<matplotlib.axes._subplots.AxesSubplot at 0x1a1a233190>"
      ]
     },
     "execution_count": 15,
     "metadata": {},
     "output_type": "execute_result"
    },
    {
     "data": {
      "image/png": "[encoded data removed]",
      "text/plain": [
       "<Figure size 432x288 with 1 Axes>"
      ]
     },
     "metadata": {
      "needs_background": "light"
     },
     "output_type": "display_data"
    }
   ],
   "source": [
    "sns.countplot(x='emotion',data=train_data)"
   ]
  },
  {
   "cell_type": "code",
   "execution_count": 21,
   "metadata": {},
   "outputs": [
    {
     "data": {
      "text/html": [
       "<div>\n",
       "<style scoped>\n",
       "    .dataframe tbody tr th:only-of-type {\n",
       "        vertical-align: middle;\n",
       "    }\n",
       "\n",
       "    .dataframe tbody tr th {\n",
       "        vertical-align: top;\n",
       "    }\n",
       "\n",
       "    .dataframe thead th {\n",
       "        text-align: right;\n",
       "    }\n",
       "</style>\n",
       "<table border=\"1\" class=\"dataframe\">\n",
       "  <thead>\n",
       "    <tr style=\"text-align: right;\">\n",
       "      <th></th>\n",
       "      <th>emotion</th>\n",
       "      <th>Tweet</th>\n",
       "    </tr>\n",
       "  </thead>\n",
       "  <tbody>\n",
       "    <tr>\n",
       "      <td>1</td>\n",
       "      <td>neutral</td>\n",
       "      <td>ios app transpo security mm need check rd pay ...</td>\n",
       "    </tr>\n",
       "    <tr>\n",
       "      <td>2</td>\n",
       "      <td>neutral</td>\n",
       "      <td>mar ios device download app</td>\n",
       "    </tr>\n",
       "    <tr>\n",
       "      <td>3</td>\n",
       "      <td>negative</td>\n",
       "      <td>jimmievanagon phone run latest ios may aount p...</td>\n",
       "    </tr>\n",
       "    <tr>\n",
       "      <td>4</td>\n",
       "      <td>positive</td>\n",
       "      <td>sure sta publication ios well live helping ask...</td>\n",
       "    </tr>\n",
       "    <tr>\n",
       "      <td>5</td>\n",
       "      <td>neutral</td>\n",
       "      <td>two dollar tuesday forklift quickkey ios suite...</td>\n",
       "    </tr>\n",
       "    <tr>\n",
       "      <td>...</td>\n",
       "      <td>...</td>\n",
       "      <td>...</td>\n",
       "    </tr>\n",
       "    <tr>\n",
       "      <td>5963</td>\n",
       "      <td>positive</td>\n",
       "      <td>ok ed lets zlatan greizmann lapoe tomorrow mak...</td>\n",
       "    </tr>\n",
       "    <tr>\n",
       "      <td>5964</td>\n",
       "      <td>neutral</td>\n",
       "      <td>goal level zlatan k friday posting every day v...</td>\n",
       "    </tr>\n",
       "    <tr>\n",
       "      <td>5965</td>\n",
       "      <td>neutral</td>\n",
       "      <td>youaremyarsenal wouldnt surprise enquiredhe ca...</td>\n",
       "    </tr>\n",
       "    <tr>\n",
       "      <td>5966</td>\n",
       "      <td>neutral</td>\n",
       "      <td>rib injury zlatan russia big blow misses austr...</td>\n",
       "    </tr>\n",
       "    <tr>\n",
       "      <td>5967</td>\n",
       "      <td>neutral</td>\n",
       "      <td>noooooo hoping see zlatan zlatan tuesday oh we...</td>\n",
       "    </tr>\n",
       "  </tbody>\n",
       "</table>\n",
       "<p>5421 rows × 2 columns</p>\n",
       "</div>"
      ],
      "text/plain": [
       "       emotion                                              Tweet\n",
       "1      neutral  ios app transpo security mm need check rd pay ...\n",
       "2      neutral                        mar ios device download app\n",
       "3     negative  jimmievanagon phone run latest ios may aount p...\n",
       "4     positive  sure sta publication ios well live helping ask...\n",
       "5      neutral  two dollar tuesday forklift quickkey ios suite...\n",
       "...        ...                                                ...\n",
       "5963  positive  ok ed lets zlatan greizmann lapoe tomorrow mak...\n",
       "5964   neutral  goal level zlatan k friday posting every day v...\n",
       "5965   neutral  youaremyarsenal wouldnt surprise enquiredhe ca...\n",
       "5966   neutral  rib injury zlatan russia big blow misses austr...\n",
       "5967   neutral  noooooo hoping see zlatan zlatan tuesday oh we...\n",
       "\n",
       "[5421 rows x 2 columns]"
      ]
     },
     "execution_count": 21,
     "metadata": {},
     "output_type": "execute_result"
    }
   ],
   "source": [
    "# remove the tweets which contains Not available\n",
    "train_data = train_data[train_data['Tweet'] != \"Not Available\"]\n",
    "train_data"
   ]
  },
  {
   "cell_type": "markdown",
   "metadata": {},
   "source": [
    "## Preprocess"
   ]
  },
  {
   "cell_type": "code",
   "execution_count": 5,
   "metadata": {},
   "outputs": [],
   "source": [
    "def Clean(dataframe):\n",
    "    #Remove non ASCII characters:\n",
    "    dataframe = dataframe.encode('ascii','ignore')\n",
    "    dataframe = dataframe.decode('utf8')\n",
    "    \n",
    "    #Remove URLs : \n",
    "    dataframe = re.sub('http\\S+\\s*','',dataframe)  \n",
    "    \n",
    "    \n",
    "    #removing mentions:\n",
    "    dataframe = re.sub('rt|cc','',dataframe) #Remove RT and cc\n",
    "    dataframe = re.sub('#\\S+','',dataframe) #Remove hashtags\n",
    "    \n",
    "    dataframe = dataframe.lower() #Converting to lowercase\n",
    "    dataframe = re.sub(r'\\d+', '', dataframe) #Removing numbers\n",
    "    dataframe = re.sub(r'[^a-zA-Z0-9\\s]', '', dataframe) #Removing punctuations\n",
    "    dataframe = dataframe.strip() #remove white spaces\n",
    "    dataframe = re.sub('pictw\\S+\\s*','',dataframe)\n",
    "    \n",
    "    #Tokenize: \n",
    "    word_tokens = word_tokenize(dataframe)\n",
    "    \n",
    "    #Words stops\n",
    "    stop_words=set(stopwords.words('english'))\n",
    "\n",
    "    filtered_tweet = []\n",
    "    filtered_tweet = [w for w in word_tokens if not w in stop_words]\n",
    "     \n",
    "    return ' '.join(filtered_tweet)"
   ]
  },
  {
   "cell_type": "markdown",
   "metadata": {},
   "source": [
    "## Clean data input "
   ]
  },
  {
   "cell_type": "code",
   "execution_count": 26,
   "metadata": {
    "scrolled": true
   },
   "outputs": [
    {
     "data": {
      "text/plain": [
       "0                    ive watched episode se mandalorian\n",
       "1     im even star wars fan im showing folks pic lik...\n",
       "2                                         watching days\n",
       "3                                        getting gnarly\n",
       "4                      one finds baby yoda kinda creepy\n",
       "5                    ive watched episode se mandalorian\n",
       "6                             staed something new today\n",
       "7                                       way mandalorian\n",
       "8                                                  baby\n",
       "9     jango n boba deserve recognized da reason da m...\n",
       "10                              introduced little cutie\n",
       "11    hey look iratheanimator animated charming walk...\n",
       "12    junping mandalorianhelmetbuilt bandwagon chinb...\n",
       "13    one thinks dr pershing looks like michael odon...\n",
       "14    life good stop bullshit im done politics tryin...\n",
       "15                    theme music stas ish lowkey slaps\n",
       "16    wellginacarano cara dune im love cant wait nex...\n",
       "17                                  getting caught like\n",
       "18    stranger things theme slaps amnesty theme slap...\n",
       "19                  bryce dallas howard amazing episode\n",
       "20                   way today rd bihday star wars fans\n",
       "21                      sold go sign ale hes back stock\n",
       "22    sunday think piss people review bad nearly unw...\n",
       "23                      hey jonfavreau thanks saving us\n",
       "24    way sta mandalorian suit build staing helmet a...\n",
       "25                                            excellent\n",
       "26    waiting disney roll next series baby chewy tim...\n",
       "27    please beg scenes awkwardly trying parent baby...\n",
       "28                  james turning absolutely incredible\n",
       "29                         would call thisa vandalorian\n",
       "30                   ive watched episode se mandalorian\n",
       "31    im even star wars fan im showing folks pic lik...\n",
       "32                                        watching days\n",
       "33                                       getting gnarly\n",
       "34                     one finds baby yoda kinda creepy\n",
       "35                   ive watched episode se mandalorian\n",
       "36                            staed something new today\n",
       "37                                      way mandalorian\n",
       "38                                                 baby\n",
       "39    jango n boba deserve recognized da reason da m...\n",
       "Name: tweet, dtype: object"
      ]
     },
     "execution_count": 26,
     "metadata": {},
     "output_type": "execute_result"
    }
   ],
   "source": [
    "data_clean = data.apply(Clean)\n",
    "data_clean"
   ]
  },
  {
   "cell_type": "markdown",
   "metadata": {},
   "source": [
    "## Clean data train "
   ]
  },
  {
   "cell_type": "code",
   "execution_count": 23,
   "metadata": {},
   "outputs": [],
   "source": [
    "train_data_clean = train_data['Tweet'].apply(Clean)"
   ]
  },
  {
   "cell_type": "code",
   "execution_count": 25,
   "metadata": {},
   "outputs": [
    {
     "data": {
      "text/plain": [
       "1       ios app transpo security mm need check rd pay ...\n",
       "2                             mar ios device download app\n",
       "3       jimmievanagon phone run latest ios may aount p...\n",
       "4       sure sta publication ios well live helping ask...\n",
       "5       two dollar tuesday forklift quickkey ios suite...\n",
       "                              ...                        \n",
       "5963    ok ed lets zlatan greizmann lapoe tomorrow mak...\n",
       "5964    goal level zlatan k friday posting every day v...\n",
       "5965    youaremyarsenal wouldnt surprise enquiredhe ca...\n",
       "5966    rib injury zlatan russia big blow misses austr...\n",
       "5967    noooooo hoping see zlatan zlatan tuesday oh we...\n",
       "Name: Tweet, Length: 5421, dtype: object"
      ]
     },
     "execution_count": 25,
     "metadata": {},
     "output_type": "execute_result"
    }
   ],
   "source": [
    "train_data_clean"
   ]
  },
  {
   "cell_type": "markdown",
   "metadata": {},
   "source": [
    "## Classifier"
   ]
  },
  {
   "cell_type": "code",
   "execution_count": null,
   "metadata": {},
   "outputs": [],
   "source": []
  }
 ],
 "metadata": {
  "kernelspec": {
   "display_name": "Python 3",
   "language": "python",
   "name": "python3"
  },
  "language_info": {
   "codemirror_mode": {
    "name": "ipython",
    "version": 3
   },
   "file_extension": ".py",
   "mimetype": "text/x-python",
   "name": "python",
   "nbconvert_exporter": "python",
   "pygments_lexer": "ipython3",
   "version": "3.7.4"
  }
 },
 "nbformat": 4,
 "nbformat_minor": 2
}
