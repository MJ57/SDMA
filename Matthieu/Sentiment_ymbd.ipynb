{
 "cells": [
  {
   "cell_type": "code",
   "execution_count": 242,
   "metadata": {},
   "outputs": [],
   "source": [
    "import os \n",
    "import pandas as pd\n",
    "import numpy as np\n",
    "import re \n",
    "import string\n",
    "import nltk\n",
    "import sklearn\n",
    "from nltk.tokenize import word_tokenize\n",
    "from nltk.corpus import stopwords\n",
    "import seaborn as sns\n",
    "from sklearn.feature_extraction.text import CountVectorizer\n",
    "from sklearn.metrics import f1_score\n",
    "from sklearn.naive_bayes import MultinomialNB\n",
    "import matplotlib.pyplot as plt\n",
    "from sklearn.svm import SVC\n",
    "from sklearn.ensemble import RandomForestClassifier\n",
    "from sklearn.linear_model import LogisticRegression"
   ]
  },
  {
   "cell_type": "code",
   "execution_count": 70,
   "metadata": {},
   "outputs": [
    {
     "name": "stdout",
     "output_type": "stream",
     "text": [
      "Number of data points: data : 2000, train : 5970 \n",
      "\n"
     ]
    }
   ],
   "source": [
    "data = pd.read_csv('twitter.csv', encoding='utf-8')\n",
    "train_data = pd.read_csv('train.csv', encoding='utf-8')\n",
    "print(f\"Number of data points: data : {data.shape[0]}, train : {train_data.shape[0]}\",'\\n')"
   ]
  },
  {
   "cell_type": "code",
   "execution_count": 72,
   "metadata": {},
   "outputs": [
    {
     "data": {
      "text/plain": [
       "0       I know there are a lot of you who need to see ...\n",
       "1        https://youtu.be/3n1YlLIzQy4  Watch Aaron try...\n",
       "2       Going to try another one... #Mandalorian #3Dpr...\n",
       "3       Instead of doing a #TBThursday Today I will de...\n",
       "4       Yes. It is what it is. 😂🤣💗\\nBut so worth it! \\...\n",
       "                              ...                        \n",
       "1995    What’s better: Star Wars or Porsche? @porsche ...\n",
       "1996    Hey it's #sithlistsunday, kick back and drink ...\n",
       "1997    And I love Mando so much, it's only been 3 epi...\n",
       "1998    Last day at @steelcitycomiccon ! Our music she...\n",
       "1999    No one told me that #Mandalorian is basically ...\n",
       "Name: tweet, Length: 2000, dtype: object"
      ]
     },
     "execution_count": 72,
     "metadata": {},
     "output_type": "execute_result"
    }
   ],
   "source": [
    "data['tweet']"
   ]
  },
  {
   "cell_type": "code",
   "execution_count": 73,
   "metadata": {},
   "outputs": [
    {
     "data": {
      "text/html": [
       "<div>\n",
       "<style scoped>\n",
       "    .dataframe tbody tr th:only-of-type {\n",
       "        vertical-align: middle;\n",
       "    }\n",
       "\n",
       "    .dataframe tbody tr th {\n",
       "        vertical-align: top;\n",
       "    }\n",
       "\n",
       "    .dataframe thead th {\n",
       "        text-align: right;\n",
       "    }\n",
       "</style>\n",
       "<table border=\"1\" class=\"dataframe\">\n",
       "  <thead>\n",
       "    <tr style=\"text-align: right;\">\n",
       "      <th></th>\n",
       "      <th>emotion</th>\n",
       "      <th>Tweet</th>\n",
       "    </tr>\n",
       "  </thead>\n",
       "  <tbody>\n",
       "    <tr>\n",
       "      <td>0</td>\n",
       "      <td>negative</td>\n",
       "      <td>Not Available</td>\n",
       "    </tr>\n",
       "    <tr>\n",
       "      <td>1</td>\n",
       "      <td>neutral</td>\n",
       "      <td>IOS 9 App Transport Security. Mm need to check...</td>\n",
       "    </tr>\n",
       "    <tr>\n",
       "      <td>2</td>\n",
       "      <td>neutral</td>\n",
       "      <td>Mar if you have an iOS device, you should down...</td>\n",
       "    </tr>\n",
       "    <tr>\n",
       "      <td>3</td>\n",
       "      <td>negative</td>\n",
       "      <td>@jimmie_vanagon my phone does not run on lates...</td>\n",
       "    </tr>\n",
       "    <tr>\n",
       "      <td>4</td>\n",
       "      <td>positive</td>\n",
       "      <td>Not sure how to start your publication on iOS?...</td>\n",
       "    </tr>\n",
       "    <tr>\n",
       "      <td>...</td>\n",
       "      <td>...</td>\n",
       "      <td>...</td>\n",
       "    </tr>\n",
       "    <tr>\n",
       "      <td>5965</td>\n",
       "      <td>neutral</td>\n",
       "      <td>@YouAreMyArsenal Wouldn't surprise me if we en...</td>\n",
       "    </tr>\n",
       "    <tr>\n",
       "      <td>5966</td>\n",
       "      <td>neutral</td>\n",
       "      <td>Rib injury for Zlatan against Russia is a big ...</td>\n",
       "    </tr>\n",
       "    <tr>\n",
       "      <td>5967</td>\n",
       "      <td>neutral</td>\n",
       "      <td>Noooooo! I was hoping to see Zlatan being Zlat...</td>\n",
       "    </tr>\n",
       "    <tr>\n",
       "      <td>5968</td>\n",
       "      <td>neutral</td>\n",
       "      <td>Not Available</td>\n",
       "    </tr>\n",
       "    <tr>\n",
       "      <td>5969</td>\n",
       "      <td>neutral</td>\n",
       "      <td>Not Available</td>\n",
       "    </tr>\n",
       "  </tbody>\n",
       "</table>\n",
       "<p>5969 rows × 2 columns</p>\n",
       "</div>"
      ],
      "text/plain": [
       "       emotion                                              Tweet\n",
       "0     negative                                      Not Available\n",
       "1      neutral  IOS 9 App Transport Security. Mm need to check...\n",
       "2      neutral  Mar if you have an iOS device, you should down...\n",
       "3     negative  @jimmie_vanagon my phone does not run on lates...\n",
       "4     positive  Not sure how to start your publication on iOS?...\n",
       "...        ...                                                ...\n",
       "5965   neutral  @YouAreMyArsenal Wouldn't surprise me if we en...\n",
       "5966   neutral  Rib injury for Zlatan against Russia is a big ...\n",
       "5967   neutral  Noooooo! I was hoping to see Zlatan being Zlat...\n",
       "5968   neutral                                      Not Available\n",
       "5969   neutral                                      Not Available\n",
       "\n",
       "[5969 rows x 2 columns]"
      ]
     },
     "execution_count": 73,
     "metadata": {},
     "output_type": "execute_result"
    }
   ],
   "source": [
    "train_data = train_data[['Category', 'Tweet']]\n",
    "train_data.rename(columns={'Category': 'emotion'}, inplace=True)\n",
    "train_data = train_data[train_data['emotion'] != 'Tweet']\n",
    "train_data"
   ]
  },
  {
   "cell_type": "markdown",
   "metadata": {},
   "source": [
    "## Count Train "
   ]
  },
  {
   "cell_type": "code",
   "execution_count": 74,
   "metadata": {},
   "outputs": [
    {
     "data": {
      "text/plain": [
       "<matplotlib.axes._subplots.AxesSubplot at 0x1a1f0eef10>"
      ]
     },
     "execution_count": 74,
     "metadata": {},
     "output_type": "execute_result"
    },
    {
     "data": {
      "image/png": "[encoded data removed]",
      "text/plain": [
       "<Figure size 432x288 with 1 Axes>"
      ]
     },
     "metadata": {
      "needs_background": "light"
     },
     "output_type": "display_data"
    }
   ],
   "source": [
    "sns.countplot(x='emotion',data=train_data)"
   ]
  },
  {
   "cell_type": "code",
   "execution_count": 75,
   "metadata": {},
   "outputs": [
    {
     "data": {
      "text/html": [
       "<div>\n",
       "<style scoped>\n",
       "    .dataframe tbody tr th:only-of-type {\n",
       "        vertical-align: middle;\n",
       "    }\n",
       "\n",
       "    .dataframe tbody tr th {\n",
       "        vertical-align: top;\n",
       "    }\n",
       "\n",
       "    .dataframe thead th {\n",
       "        text-align: right;\n",
       "    }\n",
       "</style>\n",
       "<table border=\"1\" class=\"dataframe\">\n",
       "  <thead>\n",
       "    <tr style=\"text-align: right;\">\n",
       "      <th></th>\n",
       "      <th>emotion</th>\n",
       "      <th>Tweet</th>\n",
       "    </tr>\n",
       "  </thead>\n",
       "  <tbody>\n",
       "    <tr>\n",
       "      <td>1</td>\n",
       "      <td>neutral</td>\n",
       "      <td>IOS 9 App Transport Security. Mm need to check...</td>\n",
       "    </tr>\n",
       "    <tr>\n",
       "      <td>2</td>\n",
       "      <td>neutral</td>\n",
       "      <td>Mar if you have an iOS device, you should down...</td>\n",
       "    </tr>\n",
       "    <tr>\n",
       "      <td>3</td>\n",
       "      <td>negative</td>\n",
       "      <td>@jimmie_vanagon my phone does not run on lates...</td>\n",
       "    </tr>\n",
       "    <tr>\n",
       "      <td>4</td>\n",
       "      <td>positive</td>\n",
       "      <td>Not sure how to start your publication on iOS?...</td>\n",
       "    </tr>\n",
       "    <tr>\n",
       "      <td>5</td>\n",
       "      <td>neutral</td>\n",
       "      <td>Two Dollar Tuesday is here with Forklift 2, Qu...</td>\n",
       "    </tr>\n",
       "    <tr>\n",
       "      <td>...</td>\n",
       "      <td>...</td>\n",
       "      <td>...</td>\n",
       "    </tr>\n",
       "    <tr>\n",
       "      <td>5963</td>\n",
       "      <td>positive</td>\n",
       "      <td>Ok ed let's do this, Zlatan, greizmann and Lap...</td>\n",
       "    </tr>\n",
       "    <tr>\n",
       "      <td>5964</td>\n",
       "      <td>neutral</td>\n",
       "      <td>Goal level: Zlatan  90k by Friday? = Posting e...</td>\n",
       "    </tr>\n",
       "    <tr>\n",
       "      <td>5965</td>\n",
       "      <td>neutral</td>\n",
       "      <td>@YouAreMyArsenal Wouldn't surprise me if we en...</td>\n",
       "    </tr>\n",
       "    <tr>\n",
       "      <td>5966</td>\n",
       "      <td>neutral</td>\n",
       "      <td>Rib injury for Zlatan against Russia is a big ...</td>\n",
       "    </tr>\n",
       "    <tr>\n",
       "      <td>5967</td>\n",
       "      <td>neutral</td>\n",
       "      <td>Noooooo! I was hoping to see Zlatan being Zlat...</td>\n",
       "    </tr>\n",
       "  </tbody>\n",
       "</table>\n",
       "<p>5421 rows × 2 columns</p>\n",
       "</div>"
      ],
      "text/plain": [
       "       emotion                                              Tweet\n",
       "1      neutral  IOS 9 App Transport Security. Mm need to check...\n",
       "2      neutral  Mar if you have an iOS device, you should down...\n",
       "3     negative  @jimmie_vanagon my phone does not run on lates...\n",
       "4     positive  Not sure how to start your publication on iOS?...\n",
       "5      neutral  Two Dollar Tuesday is here with Forklift 2, Qu...\n",
       "...        ...                                                ...\n",
       "5963  positive  Ok ed let's do this, Zlatan, greizmann and Lap...\n",
       "5964   neutral  Goal level: Zlatan  90k by Friday? = Posting e...\n",
       "5965   neutral  @YouAreMyArsenal Wouldn't surprise me if we en...\n",
       "5966   neutral  Rib injury for Zlatan against Russia is a big ...\n",
       "5967   neutral  Noooooo! I was hoping to see Zlatan being Zlat...\n",
       "\n",
       "[5421 rows x 2 columns]"
      ]
     },
     "execution_count": 75,
     "metadata": {},
     "output_type": "execute_result"
    }
   ],
   "source": [
    "# remove the tweets which contains Not available\n",
    "train_data = train_data[train_data['Tweet'] != \"Not Available\"]\n",
    "train_data"
   ]
  },
  {
   "cell_type": "markdown",
   "metadata": {},
   "source": [
    "## Preprocess"
   ]
  },
  {
   "cell_type": "code",
   "execution_count": 76,
   "metadata": {},
   "outputs": [],
   "source": [
    "def Clean(dataframe):\n",
    "    #Remove non ASCII characters:\n",
    "    dataframe = dataframe.encode('ascii','ignore')\n",
    "    dataframe = dataframe.decode('utf8')\n",
    "    \n",
    "    #Remove URLs : \n",
    "    dataframe = re.sub('http\\S+\\s*','',dataframe)  \n",
    "    \n",
    "    \n",
    "    #removing mentions:\n",
    "    dataframe = re.sub('rt|cc','',dataframe) #Remove RT and cc\n",
    "    dataframe = re.sub('#\\S+','',dataframe) #Remove hashtags\n",
    "    \n",
    "    dataframe = dataframe.lower() #Converting to lowercase\n",
    "    dataframe = re.sub(r'\\d+', '', dataframe) #Removing numbers\n",
    "    dataframe = re.sub(r'[^a-zA-Z0-9\\s]', '', dataframe) #Removing punctuations\n",
    "    dataframe = dataframe.strip() #remove white spaces\n",
    "    dataframe = re.sub('pictw\\S+\\s*','',dataframe)\n",
    "    \n",
    "    #Tokenize: \n",
    "    word_tokens = word_tokenize(dataframe)\n",
    "    \n",
    "    #Words stops\n",
    "    stop_words=set(stopwords.words('english'))\n",
    "\n",
    "    filtered_tweet = []\n",
    "    filtered_tweet = [w for w in word_tokens if not w in stop_words]\n",
    "     \n",
    "    return ' '.join(filtered_tweet)"
   ]
  },
  {
   "cell_type": "markdown",
   "metadata": {},
   "source": [
    "## Clean data input "
   ]
  },
  {
   "cell_type": "code",
   "execution_count": 117,
   "metadata": {
    "scrolled": true
   },
   "outputs": [
    {
     "data": {
      "text/plain": [
       "0                                 know lot need see today\n",
       "1       watch aaron try hand bounty hunting game bount...\n",
       "2                                   going try another one\n",
       "3          instead today dedicate baby yoda hes damn cute\n",
       "4                                                 yes woh\n",
       "                              ...                        \n",
       "1995               whats better star wars porsche porsche\n",
       "1996    hey kick back drink bone broth like tune ep ts...\n",
       "1997    love mando much episodes something happens im ...\n",
       "1998    last day steelcitycomion music sheets make gre...\n",
       "1999    one told basically mando adopting baby yoda pr...\n",
       "Name: tweet, Length: 2000, dtype: object"
      ]
     },
     "execution_count": 117,
     "metadata": {},
     "output_type": "execute_result"
    }
   ],
   "source": [
    "data_clean = data['tweet'].apply(Clean)\n",
    "data_clean"
   ]
  },
  {
   "cell_type": "markdown",
   "metadata": {},
   "source": [
    "## Clean data train "
   ]
  },
  {
   "cell_type": "code",
   "execution_count": 118,
   "metadata": {},
   "outputs": [],
   "source": [
    "train_data_clean = train_data['Tweet'].apply(Clean)"
   ]
  },
  {
   "cell_type": "code",
   "execution_count": 215,
   "metadata": {},
   "outputs": [
    {
     "data": {
      "text/plain": [
       "1       ios app transpo security mm need check rd pay ...\n",
       "2                             mar ios device download app\n",
       "3       jimmievanagon phone run latest ios may aount p...\n",
       "4       sure sta publication ios well live helping ask...\n",
       "5       two dollar tuesday forklift quickkey ios suite...\n",
       "                              ...                        \n",
       "5963    ok ed lets zlatan greizmann lapoe tomorrow mak...\n",
       "5964    goal level zlatan k friday posting every day v...\n",
       "5965    youaremyarsenal wouldnt surprise enquiredhe ca...\n",
       "5966    rib injury zlatan russia big blow misses austr...\n",
       "5967    noooooo hoping see zlatan zlatan tuesday oh we...\n",
       "Name: Tweet, Length: 5421, dtype: object"
      ]
     },
     "execution_count": 215,
     "metadata": {},
     "output_type": "execute_result"
    }
   ],
   "source": [
    "train_data_clean"
   ]
  },
  {
   "cell_type": "markdown",
   "metadata": {},
   "source": [
    "## Classifier"
   ]
  },
  {
   "cell_type": "code",
   "execution_count": 253,
   "metadata": {},
   "outputs": [
    {
     "name": "stdout",
     "output_type": "stream",
     "text": [
      "(5421, 12592) (5421,) (2000, 12592)\n"
     ]
    }
   ],
   "source": [
    "#Vectorizer : \n",
    "count_vectorizer = CountVectorizer()\n",
    "X_train = count_vectorizer.fit_transform(train_data_clean)\n",
    "Y_train = train_data['emotion']\n",
    "X_test = count_vectorizer.transform(data_clean)\n",
    "\n",
    "print(X_train.shape, Y_train.shape, X_test.shape)"
   ]
  },
  {
   "cell_type": "markdown",
   "metadata": {},
   "source": [
    "### Naive Bayes :"
   ]
  },
  {
   "cell_type": "code",
   "execution_count": 301,
   "metadata": {},
   "outputs": [],
   "source": [
    "def NB(X_train, X_test, Y_train):\n",
    "\n",
    "    # fit the training dataset on the NB classifier\n",
    "    Naive = MultinomialNB()\n",
    "    Naive.fit(X_train, Y_train)\n",
    "\n",
    "    # predict the labels on validation dataset\n",
    "    predictions_NB = Naive.predict(X_test)\n",
    "    \n",
    "    #print(predictions_NB)\n",
    "    print(f\" emotion positive : {list(predictions_NB).count('positive')} , negative : {list(predictions_NB).count('negative')} , neutral : {list(predictions_NB).count('neutral')} \" )\n",
    "    return predictions_NB"
   ]
  },
  {
   "cell_type": "code",
   "execution_count": 307,
   "metadata": {},
   "outputs": [
    {
     "name": "stdout",
     "output_type": "stream",
     "text": [
      " emotion positive : 1566 , negative : 99 , neutral : 335 \n"
     ]
    }
   ],
   "source": [
    "predictions_NB = NB(X_train, X_test, Y_train)"
   ]
  },
  {
   "cell_type": "markdown",
   "metadata": {},
   "source": [
    "### SVM :"
   ]
  },
  {
   "cell_type": "code",
   "execution_count": 281,
   "metadata": {},
   "outputs": [],
   "source": [
    "def SVM(X_train, X_test, Y_train):\n",
    "    \n",
    "    SVM = SVC(C=1.0, kernel='linear', degree=3, gamma='auto')\n",
    "    SVM.fit(X_train, Y_train)\n",
    "\n",
    "    # predict the labels on validation dataset\n",
    "    predictions_SVM = SVM.predict(X_test)\n",
    "\n",
    "    #print(predictions_SVM)\n",
    "    print(f\" emotion positive : {list(predictions_SVM).count('positive')} , negative : {list(predictions_SVM).count('negative')} , neutral : {list(predictions_SVM).count('neutral')}\" )\n",
    "    return predictions_SVM "
   ]
  },
  {
   "cell_type": "code",
   "execution_count": 282,
   "metadata": {},
   "outputs": [
    {
     "name": "stdout",
     "output_type": "stream",
     "text": [
      " emotion positive : 1156 , negative : 260 , neutral : 584\n"
     ]
    }
   ],
   "source": [
    "predictions_SVM = SVM(X_train, X_test, Y_train )"
   ]
  },
  {
   "cell_type": "markdown",
   "metadata": {},
   "source": [
    "### Random Forest Classifier"
   ]
  },
  {
   "cell_type": "code",
   "execution_count": 283,
   "metadata": {},
   "outputs": [],
   "source": [
    "def RFC(X_train, X_test, Y_train):\n",
    "    \n",
    "    RFC = RandomForestClassifier(n_estimators=1000, random_state=0)\n",
    "    RFC.fit(X_train, Y_train)\n",
    "\n",
    "    # predict the labels on validation dataset\n",
    "    predictions_RFC = RFC.predict(X_test)\n",
    "\n",
    "    print(f\" emotion positive : {list(predictions_RFC).count('positive')} , negative : {list(predictions_RFC).count('negative')}, neutral : {list(predictions_RFC).count('neutral')} \" )\n",
    "    return predictions_RFC "
   ]
  },
  {
   "cell_type": "code",
   "execution_count": 284,
   "metadata": {},
   "outputs": [
    {
     "name": "stdout",
     "output_type": "stream",
     "text": [
      " emotion positive : 1841 , negative : 5, neutral : 154 \n"
     ]
    }
   ],
   "source": [
    "predictions_RFC = RFC(X_train, X_test, Y_train )"
   ]
  },
  {
   "cell_type": "markdown",
   "metadata": {},
   "source": [
    "### Logistic Regression "
   ]
  },
  {
   "cell_type": "code",
   "execution_count": 285,
   "metadata": {},
   "outputs": [],
   "source": [
    "def LR(X_train, X_test, Y_train ):\n",
    "    \n",
    "    logreg = LogisticRegression(solver='liblinear', multi_class='auto')\n",
    "    logreg.fit(X_train, Y_train)\n",
    "\n",
    "    # predict the labels on validation dataset\n",
    "    predictions_LR = logreg.predict(X_test)\n",
    "\n",
    "    print(f\" emotion positive : {list(predictions_LR).count('positive')} , negative : {list(predictions_LR).count('negative')} , neutral : {list(predictions_LR).count('neutral')}\" )\n",
    "    return predictions_LR "
   ]
  },
  {
   "cell_type": "code",
   "execution_count": 286,
   "metadata": {},
   "outputs": [
    {
     "name": "stdout",
     "output_type": "stream",
     "text": [
      " emotion positive : 1343 , negative : 134 , neutral : 523\n"
     ]
    }
   ],
   "source": [
    "predictions_LR = LR(X_train, X_test, Y_train )"
   ]
  },
  {
   "cell_type": "markdown",
   "metadata": {},
   "source": [
    "### Calcul"
   ]
  },
  {
   "cell_type": "code",
   "execution_count": 360,
   "metadata": {
    "scrolled": false
   },
   "outputs": [
    {
     "name": "stdout",
     "output_type": "stream",
     "text": [
      "NB :\n",
      "78.3 4.95 16.75\n",
      "SVM :\n",
      "57.8 13.0 29.2\n",
      "RFC :\n",
      "92.05 0.25 7.7\n",
      "LR :\n",
      "67.15 6.7 26.150000000000002\n",
      "Average :\n",
      "73.825 6.225 19.950000000000003\n"
     ]
    }
   ],
   "source": [
    "nb_NB = predictions_NB.shape[0]\n",
    "positive_NB = list(predictions_NB).count('positive')\n",
    "negative_NB = list(predictions_NB).count('negative')\n",
    "neutral_NB = list(predictions_NB).count('neutral')\n",
    "print(\"NB :\")\n",
    "print((positive_NB/nb_NB)*100, (negative_NB/nb_NB)*100, (neutral_NB/nb_NB)*100)\n",
    "\n",
    "nb_SVM = predictions_SVM.shape[0]\n",
    "positive_SVM = list(predictions_SVM).count('positive')\n",
    "negative_SVM = list(predictions_SVM).count('negative')\n",
    "neutral_SVM = list(predictions_SVM).count('neutral')\n",
    "print(\"SVM :\")\n",
    "print((positive_SVM/nb_SVM)*100, (negative_SVM/nb_SVM)*100, (neutral_SVM/nb_SVM)*100)\n",
    "\n",
    "nb_RFC = predictions_RFC.shape[0]\n",
    "positive_RFC = list(predictions_RFC).count('positive')\n",
    "negative_RFC = list(predictions_RFC).count('negative')\n",
    "neutral_RFC = list(predictions_RFC).count('neutral')\n",
    "print(\"RFC :\")\n",
    "print((positive_RFC/nb_RFC)*100, (negative_RFC/nb_RFC)*100, (neutral_RFC/nb_RFC)*100)\n",
    "\n",
    "nb_LR = predictions_LR.shape[0]\n",
    "positive_LR = list(predictions_LR).count('positive')\n",
    "negative_LR = list(predictions_LR).count('negative')\n",
    "neutral_LR = list(predictions_LR).count('neutral')\n",
    "print(\"LR :\")\n",
    "print((positive_LR/nb_LR)*100, (negative_LR/nb_LR)*100, (neutral_LR/nb_LR)*100)\n",
    "\n",
    "print(\"Average :\")\n",
    "print((((positive_NB/nb_NB)+(positive_SVM/nb_SVM)+(positive_RFC/nb_RFC)+(positive_LR/nb_LR))/4)*100, (((negative_NB/nb_NB)+(negative_SVM/nb_SVM)+(negative_RFC/nb_RFC)+(negative_LR/nb_LR))/4)*100, (((neutral_NB/nb_NB)+(neutral_SVM/nb_SVM)+(neutral_RFC/nb_RFC)+(neutral_LR/nb_LR))/4)*100)\n"
   ]
  },
  {
   "cell_type": "code",
   "execution_count": null,
   "metadata": {},
   "outputs": [],
   "source": []
  }
 ],
 "metadata": {
  "kernelspec": {
   "display_name": "Python 3",
   "language": "python",
   "name": "python3"
  },
  "language_info": {
   "codemirror_mode": {
    "name": "ipython",
    "version": 3
   },
   "file_extension": ".py",
   "mimetype": "text/x-python",
   "name": "python",
   "nbconvert_exporter": "python",
   "pygments_lexer": "ipython3",
   "version": "3.7.4"
  }
 },
 "nbformat": 4,
 "nbformat_minor": 2
}
