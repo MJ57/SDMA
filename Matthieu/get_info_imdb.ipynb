{
 "cells": [
  {
   "cell_type": "markdown",
   "metadata": {},
   "source": [
    "# IMDB API "
   ]
  },
  {
   "cell_type": "markdown",
   "metadata": {},
   "source": [
    "### Import library : "
   ]
  },
  {
   "cell_type": "code",
   "execution_count": 1,
   "metadata": {},
   "outputs": [],
   "source": [
    "import imdb \n",
    "ia = imdb.IMDb()"
   ]
  },
  {
   "cell_type": "markdown",
   "metadata": {},
   "source": [
    "### Print all categories : "
   ]
  },
  {
   "cell_type": "code",
   "execution_count": 2,
   "metadata": {},
   "outputs": [
    {
     "name": "stdout",
     "output_type": "stream",
     "text": [
      "{'main': ['original title', 'cast', 'genres', 'runtimes', 'countries', 'country codes', 'language codes', 'color info', 'aspect ratio', 'sound mix', 'box office', 'certificates', 'original air date', 'rating', 'votes', 'cover url', 'plot outline', 'languages', 'title', 'year', 'kind', 'directors', 'writers', 'producers', 'composers', 'cinematographers', 'editors', 'editorial department', 'casting directors', 'production designers', 'costume designers', 'make up department', 'production managers', 'assistant directors', 'art department', 'sound department', 'special effects', 'visual effects', 'stunts', 'camera department', 'casting department', 'costume departmen', 'location management', 'music department', 'script department', 'transportation department', 'miscellaneous', 'akas', 'writer', 'director', 'production companies', 'distributors', 'special effects companies', 'other companies'], 'plot': ['plot']}\n"
     ]
    }
   ],
   "source": [
    "movie = ia.get_movie('0295721')\n",
    "arg = movie.infoset2keys\n",
    "print(arg)"
   ]
  },
  {
   "cell_type": "markdown",
   "metadata": {},
   "source": [
    "### Searching film by name : "
   ]
  },
  {
   "cell_type": "code",
   "execution_count": 22,
   "metadata": {},
   "outputs": [
    {
     "name": "stdout",
     "output_type": "stream",
     "text": [
      "Film n°1:  Pulp Fiction , ID : 0110912 , Country : ['United States'] , Writer : Quentin Tarantino , Score : 8.9\n",
      "Film n°2:  Pulp Fiction , ID : 4791456 , Country : None , Writer : Leon Thomas , Score : None\n",
      "Film n°3:  Pulp Fiction , ID : 4142918 , Country : None , Writer : David Díaz , Score : None\n",
      "Film n°4:  Pulp Fiction: The Facts , ID : 0332732 ['United States'] , Score : 7.1\n",
      "Film n°5:  Pulp Fiction: The Golden Age of Storytelling , ID : 5424792 , Country : ['United States'] , Writer : Elliot Haimoff , Score : 5.2\n",
      "Film n°6:  Pulp Fiction Art: Cheap Thrills & Painted Nightmares , ID : 0485978 , Country : ['United States'] , Writer : Jamie McDonald , Score : 8.0\n",
      "Film n°7:  Pulp Fiction: Hamburger Scene Reconstruction (Fan Made) , ID : 8855934 ['United States'] , Score : None\n",
      "Film n°8:  Vincent & Mia , ID : 6022192 , Country : ['United States'] , Writer : Bobby Hall , Score : 5.9\n",
      "Film n°9:  Pulpfiction , ID : 5056716 None , Score : 4.3\n",
      "Film n°10:  Pulp Fiction , ID : 6276222 , Country : None , Writer : Dan Klein , Score : None\n",
      "Film n°11:  Pulp Fiction , ID : 5749502 , Country : None , Writer : Jennifer Shiman , Score : None\n",
      "Film n°12:  Pulp Fiction , ID : 1575950 , Country : None , Writer : Jean Chalopin , Score : None\n",
      "Film n°13:  Pulp Fiction , ID : 0582895 , Country : None , Writer : Dawn French , Score : 8.1\n",
      "Film n°14:  Pulp Fiction , ID : 5136848 None , Score : None\n",
      "Film n°15:  Pulp Fiction , ID : 5510516 None , Score : None\n",
      "Film n°16:  Pulp Fiction , ID : 6281782 , Country : None , Writer : Yvette Bedgood , Score : None\n",
      "Film n°17:  Pulp Fiction , ID : 3682610 None , Score : None\n",
      "Film n°18:  Pulp Fiction , ID : 6423092 , Country : None , Writer : Ryan Cultrera , Score : None\n",
      "Film n°19:  Pulp Fiction , ID : 9827888 None , Score : None\n",
      "Film n°20:  'Pulp Fiction' , ID : 10084722 , Country : None , Writer : Corey Moss , Score : 9.0\n"
     ]
    }
   ],
   "source": [
    "#search film : \n",
    "movies = ia.search_movie('Pulp Fiction')\n",
    "\n",
    "for i in range (len(movies)):\n",
    "    j = 1+i\n",
    "    #For print all the informations on a film :\n",
    "    #movies[i].infoset2keys\n",
    "    \n",
    "    #Get the Id : \n",
    "    movie_ID = movies[i].movieID\n",
    "    \n",
    "    #Push the Id for have information : \n",
    "    movie = ia.get_movie(movie_ID)\n",
    "    \n",
    "    if movie.get('writer') == None :\n",
    "        print(f\"Film n°{j}: \",movies[i]['title'], \", ID :\", movie_ID, movie.get('countries'), \", Score :\",movie.get('rating'))\n",
    "        continue \n",
    "    else : \n",
    "        movie_writer = movie.get('writer')[0]\n",
    "        print(f\"Film n°{j}: \",movies[i]['title'], \", ID :\", movie_ID, \", Country :\", movie.get('countries'), \", Writer :\", movie_writer, \", Score :\",movie.get('rating'))\n",
    "     "
   ]
  },
  {
   "cell_type": "markdown",
   "metadata": {},
   "source": [
    "### Searching by ID and get info"
   ]
  },
  {
   "cell_type": "code",
   "execution_count": 23,
   "metadata": {},
   "outputs": [
    {
     "name": "stdout",
     "output_type": "stream",
     "text": [
      "\n",
      "REPONSE: Name : Taxi 3 , Score : 5.8 , Writer : Luc Besson\n"
     ]
    }
   ],
   "source": [
    "movie = ia.get_movie('0295721') #Taxi 3 \n",
    "print(\"\\nREPONSE: Name :\",movie['title'],\", Score :\",movie.get('rating'), \", Writer :\",movie.get('writer')[0])"
   ]
  },
  {
   "cell_type": "code",
   "execution_count": null,
   "metadata": {},
   "outputs": [],
   "source": []
  }
 ],
 "metadata": {
  "kernelspec": {
   "display_name": "Python 3",
   "language": "python",
   "name": "python3"
  },
  "language_info": {
   "codemirror_mode": {
    "name": "ipython",
    "version": 3
   },
   "file_extension": ".py",
   "mimetype": "text/x-python",
   "name": "python",
   "nbconvert_exporter": "python",
   "pygments_lexer": "ipython3",
   "version": "3.7.4"
  }
 },
 "nbformat": 4,
 "nbformat_minor": 2
}
