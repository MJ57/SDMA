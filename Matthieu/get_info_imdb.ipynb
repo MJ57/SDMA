{
 "cells": [
  {
   "cell_type": "markdown",
   "metadata": {},
   "source": [
    "# IMDB API "
   ]
  },
  {
   "cell_type": "markdown",
   "metadata": {},
   "source": [
    "### Import library : "
   ]
  },
  {
   "cell_type": "code",
   "execution_count": 55,
   "metadata": {},
   "outputs": [],
   "source": [
    "import imdb \n",
    "ia = imdb.IMDb()"
   ]
  },
  {
   "cell_type": "markdown",
   "metadata": {},
   "source": [
    "### Print all categories : "
   ]
  },
  {
   "cell_type": "code",
   "execution_count": null,
   "metadata": {},
   "outputs": [],
   "source": [
    "movie = ia.get_movie('0295721')\n",
    "arg = movie.infoset2keys\n",
    "print(arg)"
   ]
  },
  {
   "cell_type": "markdown",
   "metadata": {},
   "source": [
    "### Searching film by name : "
   ]
  },
  {
   "cell_type": "code",
   "execution_count": null,
   "metadata": {},
   "outputs": [],
   "source": [
    "#search film : \n",
    "movies = ia.search_movie('007 Spectre')\n",
    "\n",
    "for i in range (len(movies)):\n",
    "    j = 1+i\n",
    "    #For print all the informations on a film :\n",
    "    #movies[i].infoset2keys\n",
    "    \n",
    "    #Get the Id : \n",
    "    movie_ID = movies[i].movieID\n",
    "    \n",
    "    #Push the Id for have information : \n",
    "    movie = ia.get_movie(movie_ID)\n",
    "    \n",
    "    if movie.get('writer') == None :\n",
    "        print(f\"Film n°{j}: \",movies[i]['title'], \", ID :\", movie_ID, movie.get('countries'), \", Score :\",movie.get('rating'))\n",
    "        continue \n",
    "    else : \n",
    "        movie_writer = movie.get('writer')[0]\n",
    "        print(f\"Film n°{j}: \",movies[i]['title'], \", ID :\", movie_ID, \", Country :\", movie.get('countries'), \", Writer :\", movie_writer, \", Score :\",movie.get('rating'))\n",
    "     "
   ]
  },
  {
   "cell_type": "markdown",
   "metadata": {},
   "source": [
    "### Searching by ID and get info"
   ]
  },
  {
   "cell_type": "code",
   "execution_count": null,
   "metadata": {},
   "outputs": [],
   "source": [
    "movie = ia.get_movie('8111088') #Id of film \n",
    "print(\"\\nREPONSE: Name :\",movie['title'],\", Score :\",movie.get('rating'), \", Writer :\",movie.get('writer')[0])"
   ]
  },
  {
   "cell_type": "markdown",
   "metadata": {},
   "source": [
    "### API : "
   ]
  },
  {
   "cell_type": "code",
   "execution_count": 54,
   "metadata": {},
   "outputs": [
    {
     "name": "stdout",
     "output_type": "stream",
     "text": [
      "Name : The Mandalorian , Score : 9.1\n",
      "Name : The Godfather , Score : 9.2\n",
      "Name : Hobgoblins , Score : 2.2\n",
      "Name : Slender Man , Score : 3.2\n",
      "Name : A Cinderella Story: Christmas Wish , Score : 5.2\n",
      "Name : The Lion King , Score : 7.0\n",
      "Name : Grand Isle , Score : 4.7\n",
      "Name : Spectre , Score : 6.8\n"
     ]
    },
    {
     "data": {
      "text/plain": [
       "0                   themandalorian\n",
       "1                     thegodfather\n",
       "2                       hobgoblins\n",
       "3                       slenderman\n",
       "4    acinderellastorychristmaswish\n",
       "5                      thelionking\n",
       "6                        grandisle\n",
       "7                          spectre\n",
       "Name: Name, dtype: object"
      ]
     },
     "execution_count": 54,
     "metadata": {},
     "output_type": "execute_result"
    }
   ],
   "source": [
    "import imdb \n",
    "import pandas as pd \n",
    "import re  \n",
    "\n",
    "ia = imdb.IMDb()\n",
    "movie_list=[]\n",
    "\n",
    "for name in ('8111088', '0068646', '0089280', '5690360', '10326928', '6105098', '8380776', '2379713'):\n",
    "    movie = ia.get_movie(name) \n",
    "    name = movie['title']\n",
    "    score = movie.get('rating')\n",
    "    print(\"Name :\",name,\", Score :\", score)\n",
    "    movie_list.append((name,score))\n",
    "\n",
    "df = pd.DataFrame(movie_list, columns = ['Name', 'Score']) \n",
    "\n",
    "def Clean(data):\n",
    "    data=data.lower()\n",
    "    data = data.replace(' ', '')\n",
    "    data= re.sub(r'[^a-zA-Z0-9\\s]', '', data)\n",
    "    return data\n",
    "\n",
    "df_clean = df['Name'].apply(Clean)\n",
    "df_clean"
   ]
  },
  {
   "cell_type": "code",
   "execution_count": null,
   "metadata": {},
   "outputs": [],
   "source": []
  }
 ],
 "metadata": {
  "kernelspec": {
   "display_name": "Python 3",
   "language": "python",
   "name": "python3"
  },
  "language_info": {
   "codemirror_mode": {
    "name": "ipython",
    "version": 3
   },
   "file_extension": ".py",
   "mimetype": "text/x-python",
   "name": "python",
   "nbconvert_exporter": "python",
   "pygments_lexer": "ipython3",
   "version": "3.7.4"
  }
 },
 "nbformat": 4,
 "nbformat_minor": 2
}
