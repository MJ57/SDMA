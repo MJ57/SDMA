from imdb import IMDb

# create an instance of the IMDb class
ia = IMDb()

#search for matrix film : 
movies = ia.search_movie('matrix')
#print(movies)
print("List of films : ")
for i in range (len(movies)) : 
    print(f"Film n°{i} :", movies[i], ", ID:",movies[i].movieID, ", Info: ", movies[i].infoset2keys)

