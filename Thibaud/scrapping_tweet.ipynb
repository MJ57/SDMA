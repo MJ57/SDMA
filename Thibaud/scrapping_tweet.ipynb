{
 "cells": [
  {
   "cell_type": "code",
   "execution_count": 1,
   "metadata": {
    "scrolled": true
   },
   "outputs": [
    {
     "name": "stderr",
     "output_type": "stream",
     "text": [
      "[nltk_data] Downloading package punkt to\n",
      "[nltk_data]     C:\\Users\\Thibaud\\AppData\\Roaming\\nltk_data...\n",
      "[nltk_data]   Package punkt is already up-to-date!\n",
      "[nltk_data] Downloading package stopwords to\n",
      "[nltk_data]     C:\\Users\\Thibaud\\AppData\\Roaming\\nltk_data...\n",
      "[nltk_data]   Package stopwords is already up-to-date!\n"
     ]
    }
   ],
   "source": [
    "## CAUTION: this packet is mandatory for Twint working ##\n",
    "\n",
    "import nest_asyncio\n",
    "nest_asyncio.apply()\n",
    "\n",
    "# rest of the code\n",
    "import twint\n",
    "import pandas as pd\n",
    "import preprocessor as p\n",
    "import re\n",
    "import string\n",
    "\n",
    "import nltk\n",
    "from nltk.tokenize import word_tokenize\n",
    "from nltk.corpus import stopwords\n",
    "nltk.download('punkt')\n",
    "nltk.download('stopwords')\n",
    "import seaborn as sns"
   ]
  },
  {
   "cell_type": "code",
   "execution_count": null,
   "metadata": {},
   "outputs": [],
   "source": []
  },
  {
   "cell_type": "markdown",
   "metadata": {},
   "source": [
    "## Tweet Scrapping "
   ]
  },
  {
   "cell_type": "code",
   "execution_count": 47,
   "metadata": {},
   "outputs": [],
   "source": [
    "def tweet_scrap(movie_name):\n",
    "    \n",
    "    c = twint.Config()\n",
    "    #c.Username = \"apple\"\n",
    "    c.Search =  \"#{}\".format(movie_name)\n",
    "    #c.Search =  \"#Mandalorien\"\n",
    "    c.Format = \"Username: {username} |  Tweet: {tweet}\"\n",
    "    c.Lang = \"en\"\n",
    "    c.Limit = 40\n",
    "    c.Store_csv = True \n",
    "    ## Custom the output ##\n",
    "    c.Custom[\"Tweet\"] = [\"tweet\"]\n",
    "    #c.Custom[\"Date\"] = [\"date\"]\n",
    "\n",
    "    c.Output = \"{}.csv\".format(movie_name)\n",
    "    #c.Pandas = True\n",
    "    twint.run.Search(c)"
   ]
  },
  {
   "cell_type": "code",
   "execution_count": 3,
   "metadata": {},
   "outputs": [],
   "source": [
    "#movie_name = \"Mandalorien\"\n",
    "#tweet_scrap(movie_name)"
   ]
  },
  {
   "cell_type": "code",
   "execution_count": 4,
   "metadata": {},
   "outputs": [],
   "source": [
    "#df_tweet = pd.read_csv(\"twitter.csv\") "
   ]
  },
  {
   "cell_type": "code",
   "execution_count": 5,
   "metadata": {},
   "outputs": [],
   "source": [
    "#df_tweet"
   ]
  },
  {
   "cell_type": "markdown",
   "metadata": {},
   "source": [
    "## Tweet cleaning - Preprocess "
   ]
  },
  {
   "cell_type": "code",
   "execution_count": 6,
   "metadata": {},
   "outputs": [],
   "source": [
    "def Clean(dataframe):\n",
    "    #Remove non ASCII characters:\n",
    "    dataframe = dataframe.encode('ascii','ignore')\n",
    "    dataframe = dataframe.decode('utf8')\n",
    "    \n",
    "    #Remove URLs : \n",
    "    dataframe = re.sub('http\\S+\\s*','',dataframe)  \n",
    "    \n",
    "    \n",
    "    #removing mentions:\n",
    "    dataframe = re.sub('rt|cc','',dataframe) #Remove RT and cc\n",
    "    dataframe = re.sub('#\\S+','',dataframe) #Remove hashtags\n",
    "    \n",
    "    dataframe = dataframe.lower() #Converting to lowercase\n",
    "    #dataframe = re.sub(r'\\d+', '', dataframe) #Removing numbers\n",
    "    dataframe = re.sub(r'[^a-zA-Z0-9\\s]', '', dataframe) #Removing punctuations\n",
    "    dataframe = dataframe.strip() #remove white spaces\n",
    "    dataframe = re.sub('pictw\\S+\\s*','',dataframe)\n",
    "    \n",
    "    #Tokenize: \n",
    "    word_tokens = word_tokenize(dataframe)\n",
    "    \n",
    "    #Words stops\n",
    "    stop_words=set(stopwords.words('english'))\n",
    "\n",
    "    filtered_tweet = []\n",
    "    filtered_tweet = [w for w in word_tokens if not w in stop_words]\n",
    "     \n",
    "    return ' '.join(filtered_tweet)"
   ]
  },
  {
   "cell_type": "code",
   "execution_count": 7,
   "metadata": {},
   "outputs": [],
   "source": [
    "#df_tweet_clean = df_tweet['tweet'].apply(Clean)\n",
    "#preproctest(df_tweet)"
   ]
  },
  {
   "cell_type": "markdown",
   "metadata": {},
   "source": [
    "## Sentiment  Prediction with TextBlob"
   ]
  },
  {
   "cell_type": "code",
   "execution_count": 37,
   "metadata": {},
   "outputs": [],
   "source": [
    "from textblob import TextBlob\n",
    "from IPython.display import Markdown, display\n",
    "# Pretty printing the result\n",
    "def printmd(string, color=None):\n",
    "    colorstr = \"<span style='color:{}'>{}</span>\".format(color, string)\n",
    "    display(Markdown(colorstr))\n",
    "    \n",
    "def Senti_Blob(df_tweet_clean):\n",
    "    \n",
    "    senti_blob = []\n",
    "    for tweet in df_tweet_clean:\n",
    "        #print(tweet)\n",
    "        analysis = TextBlob(tweet)\n",
    "        #print(analysis.sentiment)\n",
    "        #senti.append(analysis.sentiment)\n",
    "        if analysis.sentiment[0]>0:\n",
    "            #printmd('Positive', color=\"green\")\n",
    "            senti_blob.append('positive')\n",
    "        elif analysis.sentiment[0]<0:\n",
    "            #printmd('Negative', color=\"red\")\n",
    "            senti_blob.append('negative')\n",
    "        else:\n",
    "            #printmd(\"Neutre\", color=\"grey\")\n",
    "            senti_blob.append('neutre')\n",
    "            #print(\"\")\n",
    "\n",
    "    File_sentiblob = {'Tweet': df_tweet_clean,\n",
    "            'Sentiment': senti_blob,\n",
    "           }\n",
    "\n",
    "    df_sentiblob = pd.DataFrame(File_sentiblob, columns= ['Tweet', 'Sentiment'])\n",
    "    \n",
    "    return df_sentiblob"
   ]
  },
  {
   "cell_type": "code",
   "execution_count": 38,
   "metadata": {},
   "outputs": [],
   "source": [
    "#df_tweet['tweet'].count()"
   ]
  },
  {
   "cell_type": "code",
   "execution_count": 39,
   "metadata": {},
   "outputs": [],
   "source": [
    "#File_sentiblob = {'Tweet': df_tweet_clean,\n",
    "#            'Sentiment': senti_blob,\n",
    "#           }\n",
    "\n",
    "#df_sentiblob = pd.DataFrame(File, columns= ['Tweet', 'Sentiment'])\n",
    "#df_sentiblob   "
   ]
  },
  {
   "cell_type": "markdown",
   "metadata": {},
   "source": [
    "## Predicted Emotion Analyses  "
   ]
  },
  {
   "cell_type": "code",
   "execution_count": 40,
   "metadata": {},
   "outputs": [],
   "source": [
    "#df_sentiblob.count()"
   ]
  },
  {
   "cell_type": "code",
   "execution_count": 41,
   "metadata": {},
   "outputs": [],
   "source": [
    "#sns.countplot(x='Sentiment',data=df_sentiblob)"
   ]
  },
  {
   "cell_type": "code",
   "execution_count": 42,
   "metadata": {
    "scrolled": true
   },
   "outputs": [],
   "source": [
    "#count_sentiblob = df_sentiblob.groupby(\"Sentiment\", sort='count').size().reset_index(name='count')\n",
    "#print('\\n Sentiment with Sentiblob: \\n\\n', count_sentiblob)"
   ]
  },
  {
   "cell_type": "markdown",
   "metadata": {},
   "source": [
    "# API"
   ]
  },
  {
   "cell_type": "code",
   "execution_count": 68,
   "metadata": {},
   "outputs": [],
   "source": [
    "def Api(movie_name):\n",
    "    tweet_scrap(movie_name)\n",
    "    df_tweet = pd.read_csv(\"{}.csv\".format(movie_name))\n",
    "    df_tweet_clean = df_tweet['tweet'].apply(Clean)\n",
    "    #Senti_Blob(df_tweet_clean)\n",
    "    df_sentiment_blob = Senti_Blob(df_tweet_clean)\n",
    "    print('\\n \\n')\n",
    "    print(df_sentiment_blob)\n",
    "    \n",
    "    count_senti = df_sentiment_blob.count()\n",
    "    print('\\n \\n')\n",
    "    print('Total number of tweet: \\n',count_senti)\n",
    "    \n",
    "    sns.countplot(x='Sentiment',data=df_sentiment_blob)\n",
    "    \n",
    "    count_sentiblob = df_sentiment_blob.groupby(\"Sentiment\", sort='count').size().reset_index(name='count')\n",
    "    print('\\n Sentiment with Sentiblob: \\n\\n', count_sentiblob)\n",
    "    \n",
    "    ## Pourcentage \n",
    "    \n",
    "    nb_tot = df_sentiment_blob['Sentiment'].shape[0]\n",
    "    positive_sentiblob = list(df_sentiment_blob['Sentiment']).count('positive')\n",
    "    negative_sentiblob = list(df_sentiment_blob['Sentiment']).count('negative')\n",
    "    neutral_sentiblob = list(df_sentiment_blob['Sentiment']).count('neutre')\n",
    "\n",
    "    print('\\n percent of positive:', (positive_sentiblob/nb_tot)*100)\n",
    "    print( '\\n percent of negative:', (negative_sentiblob/nb_tot)*100)\n",
    "    print('\\n percent of neutre:', (neutral_sentiblob/nb_tot)*100)\n",
    "    \n",
    "    "
   ]
  },
  {
   "cell_type": "code",
   "execution_count": null,
   "metadata": {},
   "outputs": [],
   "source": []
  },
  {
   "cell_type": "code",
   "execution_count": 70,
   "metadata": {
    "scrolled": false
   },
   "outputs": [
    {
     "name": "stderr",
     "output_type": "stream",
     "text": [
      "CRITICAL:root:twint.run:Twint:Feed:noDataExpecting value: line 1 column 1 (char 0)\n",
      "CRITICAL:root:twint.run:Twint:Feed:noDataExpecting value: line 1 column 1 (char 0)\n",
      "CRITICAL:root:twint.run:Twint:Feed:noDataExpecting value: line 1 column 1 (char 0)\n",
      "CRITICAL:root:twint.run:Twint:Feed:noDataExpecting value: line 1 column 1 (char 0)\n",
      "CRITICAL:root:twint.run:Twint:Feed:noDataExpecting value: line 1 column 1 (char 0)\n",
      "CRITICAL:root:twint.run:Twint:Feed:noDataExpecting value: line 1 column 1 (char 0)\n",
      "CRITICAL:root:twint.run:Twint:Feed:noDataExpecting value: line 1 column 1 (char 0)\n"
     ]
    },
    {
     "name": "stdout",
     "output_type": "stream",
     "text": [
      "Username: Ankur42887396 |  Tweet: I was expecting this when he says that 😅😅😅😅😅 Would have been very cool .... Source ironman_kyne25  #mcu #marvel #endgame #avengers #avengersendgame #chrisevans #robertdowneyjr #chrishemsworth #allaboutmarvel00…  https://www.instagram.com/p/B6BD5tml00L/?igshid=1he0zpun1hmna …\n",
      "Username: MisterBabamook |  Tweet: Think it's time to bin this and swap it up for something else. #Banner #AvengersEndgame #avengersinfinitywar #Avengers pic.twitter.com/LLoHlQHpdB\n",
      "Username: Shouto_Peter |  Tweet: Now I don't know about you, but I'm soft for mentor apprentice/ parental and child figure relationships in the shows I watch  #maleficentmistressofevil #AvengersEndgame #BokuNoHeroAcademia #owarinoseraph pic.twitter.com/NFxuDlVfwD\n",
      "Username: Cinemaniac94 |  Tweet: As a writer I love watching movies while reading the script side by side. It really gets the creative juices flowing and its pretty cool to see someone's vision on screen. Highly recommend for script writers and readers! #AvengersEndgame  pic.twitter.com/iUSu4YsA8x\n",
      "Username: poppourreview |  Tweet: Best Musical Score  #Us #FORDvFERRARI #InFabric #LittleWomen #JojoRabbit #Joker #AHiddenLife #TheLighthouse #GodzillaKingOfTheMonsters #TheLastBlackManInSanFransico #MarriageStory #1917Movie #MotherlessBrooklyn #Waves #AvengersEndgame  pic.twitter.com/aLItwpCMj5\n",
      "Username: MyBabyGroot |  Tweet: I am Groot!  #ThisGiraffeIsLookingAtMeFunny #IThinkHeWantsToEatMyHeadSprout #groot #babygroot #iamgroot  #wearegroot #twig #guardians #guardiansofthegalaxy #guardiansofthegalaxyvol2 #avengersinfinitywar #endgame #avengersendgame #avengers #gotg #gotg2 #marvel #disney #giraffe pic.twitter.com/ld1dTP4b36\n",
      "Username: dpnaughton |  Tweet: New Marvel Notebooks  #marvel #captainamerica #ironman #marvelnotebooks #marvelnotebook #notebooks #steverogers #tonystark #avengers #avengersendgame  https://ift.tt/2LQNa5P  pic.twitter.com/gmMXiu4k8b\n",
      "Username: GeekVibesNation |  Tweet: According to the script for #AvengersEndgame - Steve Rogers was 112 years old at the end of the film via @MarvelStudios pic.twitter.com/Zx8igaQhWP\n",
      "Username: kikkeliskokkel9 |  Tweet: I have to admit it, I almost cried when @RobertDowneyJr's @Iron_Man died in the @Avengers Endgame.  And I'm a grown man.  Thank you @Marvel, what a ride it has been and I hope it's still far from its end.  #Marvel #AvengersEndgame #movie #emotions\n",
      "Username: Monyap2 |  Tweet: I think #ThorHulk will dominate in Marvel Studios’ #AvengersEndgame. Which Avengers match-up is your favorite? Tweet below and @genmillscereal will share how you could get a $13 Movie Ticket to Marvel Studios’ #AvengersEndgame.\n",
      "Username: MenPhotosoot |  Tweet: Chris Evans  Appearing on 'The Tonight Show with Jimmy Fallon' in New York City  November 4, 2019  #Chrisevans #CaptainAmerica #steverogers #Cute #Awesome #Avengers #Actor #Loveyou3000 #avengersendgame #endgame pic.twitter.com/ycuUlyto4W\n",
      "Username: MajorIssuesCBC |  Tweet: Lord just take me now...  #IronMan #TonyStark #CaptainMarvel #AvengersEndgame #Avengers #MCU #Marvel #ArcReactor #ILoveYou3000 pic.twitter.com/FJ6EGcxXGW\n",
      "Username: JoyKarmaker75 |  Tweet: ❤❤❤Thor Wallpaper❤❤❤ #avengers #AvengersEndgame #thor pic.twitter.com/TGMVbMzu0m\n",
      "Username: marvelitalia_ |  Tweet: Other official poster of #avengersinfinitywar #AvengersEndgame #SpiderManFarFromHome . #marvel_italia #marvelcomics #marvelcinematicuniverse #mcu #marvelstudios #marvelita #marvelitalia #thor #captainamerica #ironman #spiderman #hawkeye #blackwidow #marvelfan #Marvel pic.twitter.com/hANSRgrxIT\n",
      "Username: MCU_Direct |  Tweet: \"And snaps his fingers.\"  Full #AvengersEndgame screenplay:  http://bit.ly/2E2UuHw  pic.twitter.com/xYjMeMlNAM\n",
      "Username: marvelitalia_ |  Tweet: Other official poster of #blackpanther #captainmarvel #avengersinfinitywar #avengersendgame #SpiderManFarFromHome . #marvel_italia #marvelcomics #marvelcinematicuniverse #mcu #marvelstudios #marvelita #marvelitalia #thor #captainamerica #ironman #spiderman #hawkeye #blackwidow pic.twitter.com/Aee6mzOsmY\n",
      "Username: utkarshv13 |  Tweet: Yeah yeah we know. We have seen #AvengersEndgame!  pic.twitter.com/3Vj2n1PbAn\n",
      "Username: smartechworld |  Tweet: Experience the futuristic world of Iron Man in your own home with Iron Man MK50 by @UBTECHRobotics 🤖 🔥It brings Tony Stark’s MK50 armor to life with authentic movements, lights, sounds & more.👌🏻⚡️ • #IronMan #avengersendgame #SmartechWorld #TheStoreOfTheFuture pic.twitter.com/MAiN999hCy\n",
      "Username: smokees78 |  Tweet: Who’s your Favourite Super Hero to watch while Smoking? 🦸‍♀️ 🍁 #batman #superman #smokees #mavel . . #marvel #avengers #spiderman #marvelcomics #mcu #comics #ironman #cosplay #avengersendgame #captainamerica #xmen…  https://www.instagram.com/p/B6A0_IEnAUr/?igshid=1apzokarca8mn …\n",
      "Username: LucyMORT14 |  Tweet: Marvel Avengers EndGame Christmas Hat with Pom - New with Tags | eBay  https://www.ebay.com/itm/Marvel-Avengers-EndGame-Christmas-Hat-with-Pom-New-with-Tags/184005759518?hash=item2ad799121e:g:VCQAAOSwlQddsEin … #Marvel #marveluniverse #eBay #Christmas #Christmastime #Christmashat #AvengersEndgame #avengers #holidayseason #holidays2019 #SuperHero #ebayseller #buynow #HolidaysBeginHere #shop\n",
      "Username: SuperHeroAcade |  Tweet: The only distinction was that Peter had an Iron-Man helmet while Morgan had a Rescue helmet. #ironman #tonystark #robertdowneyjr #peterparker #Spidermanfarfromhome #spidermanhomecoming #spiderman #morganstark #avengers #avengersendgame #Marvel #MarvelStudios #marvelcomics #Disney pic.twitter.com/IaQePMh60K\n",
      "Username: empiremagazine |  Tweet: The best movie soundtrack songs of 2019 – from #AvengersEndgame's Portals, to the best song about Keanu Reeves you'll ever hear:  https://www.empireonline.com/movies/features/best-movie-soundtrack-songs-2019/ … pic.twitter.com/xuj2MvoZc3\n",
      "Username: NorthSouthFilm |  Tweet: My Updated Top 10 Of 2019: #Booksmart #KnivesOut #TheIrishman #AvengersEndgame #HighFlyingBird #OnceUponATimeInHollywood #AdAstra #FORDvFERRARI #JojoRabbit #Us  See you at @EssexCinemas10! #btv pic.twitter.com/kETjFm3Rr0\n",
      "Username: marvelpulse |  Tweet: 😎💪🏻 .⠀ . Follow @marvelpulse for more! . .⠀ #avengers #endgame #avengersendgame #endgamememes #marvelpulse #marveluniverse #marvel #marvelmemes #marvelcomics #mcu #mcumemes #marvelindia #mcuindia #marvelfamily…  https://www.instagram.com/p/B6Atu8Kl5lF/?igshid=1gheuzyr8jlff …\n",
      "Username: Mr_Moment_ |  Tweet: New concept art #IronMan mark 85   #AvengersEndgame  pic.twitter.com/q6iG6smEX3\n",
      "Username: marvelpulse |  Tweet: 😂 .⠀ . Follow @marvelpulse for more! . .⠀ #avengers #endgame #avengersendgame #endgamememes #marvelpulse #marveluniverse #marvel #marvelmemes #marvelcomics #mcu #mcumemes #marvelindia #mcuindia #marvelfamily…  https://www.instagram.com/p/B6AtaFpFK86/?igshid=19ljvil2plpkg …\n",
      "Username: TheHinduCinema |  Tweet: Just about everything seems to be going right for #ScarlettJohansson. Earlier this year, she starred in #AvengersEndgame, and followed that up by featuring in two of the year's most rewarding films, #MarriageStory and Taika Waititi’s #JojoRabbit http://ow.ly/9ByE50xzePj \n",
      "Username: digitalspy |  Tweet: #GuardiansOfTheGalaxy 3's James Gunn reveals whether Avengers: Endgame events changed the third movie   https://buff.ly/34lr9T3  #AvengersEndgame #MCU pic.twitter.com/8MOUPCvl1l\n",
      "Username: TriviaAD |  Tweet: #Marvel (Movie) #Trivia @JakesDilemma on Monday, 1/13 starting 8pm! RSVP at;  https://bit.ly/2P1hThl  #MarvelStudios #Avengers #AvengersEndgame #GuardiansOfTheGalaxy #NYC #UpperWestSide\n",
      "Username: PriyalGajbhiye |  Tweet: @RobertDowneyJr Iron Man's death still   to this day makes me cry... I love you 3000💔. How is the world a better place without Iron man 😭😭😭😭? #AvengersEndgame\n",
      "Username: dpnaughton |  Tweet: Funko Advent Calendar - Day 13 - Thanos  #funkoadventcalendar #adventcalendar #funko #marvel #funkomarvel #thanos #thanosthemadtitan #infinitygauntlet #avengers #avengersinfinitywar #avengersendgame  https://ift.tt/2YJdxQx  pic.twitter.com/N7IAt1KRyZ\n",
      "Username: comicsrogue7 |  Tweet: 🔥🔥 #ForSALE: #MarvelComics' #JaneFoster aka Female #Thor #1 #KeyISSUE - FIVE #Variant Cover LOT #AdamHughes #EsadRibic #FionaStaples #SaraPichelli #StanLee #Loki #ThorRagnarok #ThorLoveAndThunder #AvengersEndgame #ComicBooks #NataliePortman #JasonAaron http://www.ebay.com/itm/163964675510 …\n"
     ]
    },
    {
     "name": "stdout",
     "output_type": "stream",
     "text": [
      "Username: OnePerfectShot |  Tweet: AVENGERS: INFINITY WAR (2018)  Cinematography by Trent Opaloch Directed by @Russo_Brothers  We charted the entire path to #AvengersEndgame -- read our entry on this one here:  http://bit.ly/2siKuqZ  pic.twitter.com/7yyrw7DkXG\n",
      "Username: comicsrogue7 |  Tweet: 🔥🔥 #ForSALE:  #OnSALE! RARE #GuardiansOftheGalaxy #2 (2013) | 1:150 #JoeQuesada SKETCH #VARIANT! #Guardians3 #GuardiansOftheGalaxy3 #MarvelComics #RocketRaccoon #ComicBooks #AvengersEndgame #Comics #Avengers #OnSaleNOW! http://www.ebay.com/itm/163964678777 …\n",
      "Username: comicsrogue7 |  Tweet: 🔥🔥 #ForSALE:  #KEYIssue #MarvelComics' #X23 #7 2018 #MikeDeodato #Variant MINT! 1st #XAssassin! #ComicBooks #XMen #Wolverine #AvengersEndgame #XMen #GuardiansOftheGalaxy3 http://www.ebay.com/itm/163964704619 …\n",
      "Username: RealityMarve1 |  Tweet: Captain Marvel / Carol Danvers | Avengers endgame   #CaptainMarvel #CarolDanvers #BrieLarson #Avengers #AvengersEndgame #Marvel #MarvelStudios #Thor #CaptainAmerica #IronMan #BlackWidow #Nebula #Hawkaye #Wandamaximoff #BruceBanner #Hulk #loki #DoctorStrange #WinterSoldier pic.twitter.com/pUo1v7iW68\n",
      "Username: RealityMarve1 |  Tweet: Captain Marvel / Carol Danvers | Avengers endgame   #CaptainMarvel #CarolDanvers #BrieLarson #Avengers #AvengersEndgame #Marvel #MarvelStudios #Thor #CaptainAmerica #IronMan #BlackWidow #Nebula #Hawkaye #Wandamaximoff #BruceBanner #Hulk #loki #DoctorStrange #WinterSoldier pic.twitter.com/QfC473l3V1\n",
      "Username: comicsrogue7 |  Tweet: 🔥🔥 #ForSALE:  An EXTREMELY VERY #RARE #Magneto #1 1:50 NM/M #JohnCassaday #Variant cover from #MarvelComics! #StanLee the #XMen are back!! (just NOT in #AvengersEndgame) #Marvel #GuardiansOftheGalaxy3 #Guardians3 #ComicBooks http://www.ebay.com/itm/163964695374 …\n",
      "Username: comicsrogue7 |  Tweet: 🔥🔥 #ForSALE: A HUGE LOT of 78 Various #MarvelComics #Variants by #SKOTTIEYOUNG! Baby #ComicBooks #StanLee #CaptainAmerica #CaptainMarvel #SpiderGwen #SpiderMan #XMen #Avengers #IronMan #StarWars #AvengersEndgame #GuardiansOftheGalaxy3 http://www.ebay.com/itm/163964675192 …\n",
      "Username: comicsrogue7 |  Tweet: 🔥🔥 #ForSALE:  BRAND NEW #Kotobukiya #XMen '92 #Cyclops & #Beast #ArtFX Statue Model Kit IN STOCK but NOT in #AvengersEndgame #MarvelComics #Wolverine #UncannyXMen http://www.ebay.com/itm/163964695011 …\n",
      "Username: comicsrogue7 |  Tweet: 🔥🔥 #ForSALE:  #MarvelComics' #TonyStark #IRONMAN #1 COMPLETE ARMOR #VARIANT SET #DanSlott! #StanLee #TrueBeliever #ValerioSchiti #ComicBooks #Avengers #AvengersEndgame #Marvel #RobertDowneyJR #GuardiansOftheGalaxy3 #Comics #ComicBook http://www.ebay.com/itm/153741938804 …\n",
      "Username: comicsrogue7 |  Tweet: 🔥🔥#ForSALE:   #NewAvengers #8 1st App #BlackOrder #KeyIssue #Avengers: #InfinityWar #AvengersEndgame #Thanos #ProximaMidnight #BlackDwarf #EbonyMaw #BlackSwan #CullObsidian #MarvelComics #ComicBooks #CaptainAmerica #GuardiansOftheGalaxy3 http://www.ebay.com/itm/153741944539 …\n",
      "Username: waynevilla |  Tweet: Behind door No13 Thanos #marvel #avengers #spiderman #marvelcomics #mcu #comics #ironman #avengersendgame #captainamerica #xmen #thor #endgame #peterparker #deadpool #disney #marvelstudios #hulk #infinitywar…  https://www.instagram.com/p/B6Adox9h5N5/?igshid=1rjc1fs917j5z …\n",
      "Username: cinafilm |  Tweet: Avengers: Endgame (2019) - Read 342 Movie Reviews  Link:  https://cinafilm.com/1010944631  #AvengersEndgame\n",
      "Username: iam_veecent |  Tweet: Chia I remembered seeing #AvengersEndgame in akure. Those guys were shouting like it was a football viewing center  https://twitter.com/ChocolateMoana/status/1205355312565440512 …\n",
      "Username: TamilCinemaAss1 |  Tweet: #KabirSingh is the most searched film on #Google this year  #Marvel's #AvengersEndGame is the second most searched movie this year.   https://www.xappie.com/entertainment-view/kabir-singh-is-the-most-searched-film-on-google-this-year-26668 …\n",
      "Username: Credo03 |  Tweet: #IronMan's sacrifice... 😫 #AvengersEndgame #Marvel\n",
      "Username: iamr4ju |  Tweet: #KabirSingh is Google India’s most searched film of 2019, beats #AvengersEndgame @advani_kiara @shahidkapoor\n",
      "Username: SHIELD221287 |  Tweet: #Avengers: #Endgame - The Biggest Reveals From The Script #AvengersEndgame #MCU #Marvel https://www.youtube.com/watch?v=auWXLvlKRZY …\n",
      "Username: Credo03 |  Tweet: #CaptainAmerica has so much heart ❤ tho... #Marvel #AvengersEndgame\n",
      "Username: XappieBollywood |  Tweet: #KabirSingh is the most searched film on #Google this year  #Marvel's #AvengersEndGame is the second most searched movie this year.   https://www.xappie.com/entertainment-view/kabir-singh-is-the-most-searched-film-on-google-this-year-26668 …\n",
      "Username: StevieChanz |  Tweet: WOW, just watched #AvengersEndgame on #DisneyPlus for the first time since seeing in theaters... that ending still got me! #iloveyou3000 @RobertDowneyJr @ChrisEvans @chrishemsworth @MarkRuffalo @TomHolland1996 @Jon_Favreau @Marvel\n",
      "Username: thejaxblog |  Tweet: RT lovecapetown: RT Galileo_Cinema: Let's fast-forward to 6pm so we can bask in the happiness that this spectacular view creates ♥ #thegalileo #openaircinema meerendalwine carluccis_CT #AvengersEndgame #capetown #lovecapetown #capetownmag pic.twitter.com/OSDfx72vjg\n",
      "Username: agChrist54 |  Tweet: That is how I wanna go out, saving the universe. #ironman #AvengersEndgame\n",
      "Username: Mcu_Master01 |  Tweet: Steve Rogers was 112 years old at the end of #AvengersEndgame #CaptainAmerica #McuMaster #Marvelindia #MarvelStudios pic.twitter.com/pG1GvRtOo8\n",
      "Username: laurenaiyer |  Tweet: Recently rewatched #AvengersEndgame Ppl mad about Thor’s storyline,how it “undid Ragnorak”doesnt make sense to me. If anything, it highlighted versatility of his emotions exemplified in Ragnorak, unlike first 2 Thor films. The “funny” act was to ameliorate & mask deep depression.\n",
      "\n",
      " \n",
      "\n",
      "                                                Tweet Sentiment\n",
      "0      expecting says would cool source ironmankyne25  positive\n",
      "1                  think time bin swap something else    neutre\n",
      "2   dont know im soft mentor apprentice parental c...  positive\n",
      "3   writer love watching movies reading script sid...  positive\n",
      "4                                  best musical score  positive\n",
      "5                                               groot    neutre\n",
      "6                                new marvel notebooks  positive\n",
      "7   aording script steve rogers 112 years old end ...  positive\n",
      "8   admit almost cried robedowneyjrs ironman died ...  positive\n",
      "9   think dominate marvel studios avengers matchup...  positive\n",
      "10  chris evans appearing tonight show jimmy fallo...  positive\n",
      "11                                          lord take    neutre\n",
      "12                                     thor wallpaper    neutre\n",
      "13                                    official poster    neutre\n",
      "14                      snaps fingers full screenplay  positive\n",
      "15                                    official poster    neutre\n",
      "16                                yeah yeah know seen    neutre\n",
      "17  experience futuristic world iron man home iron...  positive\n",
      "18            whos favourite super hero watch smoking  positive\n",
      "19  marvel avengers endgame christmas hat pom new ...  positive\n",
      "20  distinction peter ironman helmet morgan rescue...    neutre\n",
      "21  best movie soundtrack songs 2019 poals best so...  positive\n",
      "22             updated top 10 2019 see essexcinemas10  positive\n",
      "23                                 follow marvelpulse    neutre\n",
      "24                                new concept mark 85  positive\n",
      "25                                 follow marvelpulse    neutre\n",
      "26  everything seems going right earlier year star...  positive\n",
      "27  3s james gunn reveals whether avengers endgame...    neutre\n",
      "28      movie jakesdilemma monday 113 staing 8pm rsvp    neutre\n",
      "29  robedowneyjr iron mans death still day makes c...  positive\n",
      "30                funko advent calendar day 13 thanos    neutre\n",
      "31                          aka female five cover lot    neutre\n",
      "32  avengers infinity war 2018 cinematography tren...    neutre\n",
      "33                              rare 2013 1150 sketch  positive\n",
      "34                                      2018 mint 1st    neutre\n",
      "35      captain marvel carol danvers avengers endgame    neutre\n",
      "36      captain marvel carol danvers avengers endgame    neutre\n",
      "37                       extremely 150 nmm cover back  negative\n",
      "38                           huge lot 78 various baby  positive\n",
      "39                brand new 92 statue model kit stock  positive\n",
      "40                                 complete armor set  positive\n",
      "41                                            1st app    neutre\n",
      "42                            behind door no13 thanos  negative\n",
      "43  avengers endgame 2019 read 342 movie reviews link    neutre\n",
      "44  chia remembered seeing akure guys shouting lik...  negative\n",
      "45      searched film year second searched movie year    neutre\n",
      "46                                          sacrifice    neutre\n",
      "47  google indias searched film 2019 beats advanik...    neutre\n",
      "48                             biggest reveals script    neutre\n",
      "49                                       much hea tho  positive\n",
      "50      searched film year second searched movie year    neutre\n",
      "51  wow watched first time since seeing theaters e...  positive\n",
      "52  rt lovecapetown rt galileocinema lets fastforw...  positive\n",
      "53                          wan na go saving universe  negative\n",
      "54                     steve rogers 112 years old end  positive\n",
      "55  recently rewatched ppl mad thors storylinehow ...  negative\n",
      "\n",
      " \n",
      "\n",
      "Total number of tweet: \n",
      " Tweet        56\n",
      "Sentiment    56\n",
      "dtype: int64\n"
     ]
    },
    {
     "name": "stdout",
     "output_type": "stream",
     "text": [
      "\n",
      " Sentiment with Sentiblob: \n",
      "\n",
      "   Sentiment  count\n",
      "0  negative      5\n",
      "1    neutre     25\n",
      "2  positive     26\n",
      "\n",
      " percent of positive: 46.42857142857143\n",
      "\n",
      " percent of negative: 8.928571428571429\n",
      "\n",
      " percent of neutre: 44.642857142857146\n"
     ]
    },
    {
     "data": {
      "image/png": "[encoded data removed]",
      "text/plain": [
       "<Figure size 432x288 with 1 Axes>"
      ]
     },
     "metadata": {
      "needs_background": "light"
     },
     "output_type": "display_data"
    }
   ],
   "source": [
    "#movie_name = \"Mandalorien\"\n",
    "movie_name = \"avengersendgame\"\n",
    "#movie_name = \"peakyblinders\"\n",
    "Api(movie_name)"
   ]
  },
  {
   "cell_type": "code",
   "execution_count": null,
   "metadata": {},
   "outputs": [],
   "source": []
  },
  {
   "cell_type": "code",
   "execution_count": null,
   "metadata": {},
   "outputs": [],
   "source": []
  },
  {
   "cell_type": "code",
   "execution_count": null,
   "metadata": {},
   "outputs": [],
   "source": []
  }
 ],
 "metadata": {
  "kernelspec": {
   "display_name": "Python 3",
   "language": "python",
   "name": "python3"
  },
  "language_info": {
   "codemirror_mode": {
    "name": "ipython",
    "version": 3
   },
   "file_extension": ".py",
   "mimetype": "text/x-python",
   "name": "python",
   "nbconvert_exporter": "python",
   "pygments_lexer": "ipython3",
   "version": "3.7.4"
  }
 },
 "nbformat": 4,
 "nbformat_minor": 2
}
