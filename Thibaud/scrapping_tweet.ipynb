{
 "cells": [
  {
   "cell_type": "code",
   "execution_count": 114,
   "metadata": {},
   "outputs": [
    {
     "name": "stderr",
     "output_type": "stream",
     "text": [
      "[nltk_data] Downloading package punkt to\n",
      "[nltk_data]     C:\\Users\\Thibaud\\AppData\\Roaming\\nltk_data...\n",
      "[nltk_data]   Package punkt is already up-to-date!\n",
      "[nltk_data] Downloading package stopwords to\n",
      "[nltk_data]     C:\\Users\\Thibaud\\AppData\\Roaming\\nltk_data...\n",
      "[nltk_data]   Unzipping corpora\\stopwords.zip.\n"
     ]
    },
    {
     "data": {
      "text/plain": [
       "True"
      ]
     },
     "execution_count": 114,
     "metadata": {},
     "output_type": "execute_result"
    }
   ],
   "source": [
    "## CAUTION: this packet is mandatory for Twint working ##\n",
    "\n",
    "import nest_asyncio\n",
    "nest_asyncio.apply()\n",
    "\n",
    "# rest of the code\n",
    "import twint\n",
    "import pandas as pd\n",
    "import preprocessor as p\n",
    "import re\n",
    "import string\n",
    "\n",
    "import nltk\n",
    "from nltk.tokenize import word_tokenize\n",
    "from nltk.corpus import stopwords\n",
    "nltk.download('punkt')\n",
    "nltk.download('stopwords')"
   ]
  },
  {
   "cell_type": "code",
   "execution_count": 88,
   "metadata": {},
   "outputs": [
    {
     "name": "stderr",
     "output_type": "stream",
     "text": [
      "CRITICAL:root:twint.run:Twint:Feed:noDataExpecting value: line 1 column 1 (char 0)\n"
     ]
    },
    {
     "name": "stdout",
     "output_type": "stream",
     "text": [
      "Username: AndrewLTumlin |  Tweet: “The Way, This is”  Today is My 23rd Birthday Star Wars Fans! #Battlefront2 #Mandalorian  pic.twitter.com/1h3qUused4\n",
      "Username: iamwickedz |  Tweet: SOLD OUT Go here to sign up for an alert when he’s back in stock:  https://www.etsy.com/listing/741798336/amigurumi-baby-yoda-the-mandalorian … #babyyoda #mandalorian #disney #disneyplus #starwars #crochet #amigurumi #etsy #etsyshop pic.twitter.com/uhm1TjOFAX\n",
      "Username: John_JE_Ellis |  Tweet: It's Sunday, so I think I should piss a few people off. 😬🙉 The #Mandalorian review: it's bad, nearly unwatchable, IMO. Plot is predictable, dialogue is stilted, cliche and OTN, the main character is boring. I'm a huge SF fan (for 50yrs), but this #tvseries is one of the worst.\n",
      "Username: RealGoldenMic |  Tweet: Hey @Jon_Favreau , thanks for saving #starwars for us. #Mandalorian\n",
      "Username: shikeicosplayin |  Tweet: This is the way.  Start of a mandalorian suit build starting with the helmet as always. #mandalorian #diy #cosplay #carbonfiber #gelball #thisistheway @ Sunshine Coast, Queensland  https://www.instagram.com/p/B5icmj9n8yV0DJfcY3tfy-NvqtdgRwlV0Ha0N40/?igshid=l8xxi51fqlbi …\n",
      "Username: wbruce44 |  Tweet: The #MANDALORIAN is EXCELLENT!!!  pic.twitter.com/UhhZXDswyy\n",
      "Username: fakeronwash38 |  Tweet: Waiting for Disney to roll out their next series with Baby Chewy this time. Have to milk that cash cow! #Mandalorian #WashTalk\n",
      "Username: DelicaDreams |  Tweet: Please, I beg of you, more scenes of the #Mandalorian awkwardly trying to parent baby “Yoda.” It’s giving me 100% pure joy.\n",
      "Username: iantDC |  Tweet: James is turning out some absolutely incredible #Mandalorian art.  https://twitter.com/JimJeroo/status/1201190622012563457 …\n",
      "Username: EotGBlog |  Tweet: What would you call this...A Vandalorian?   #starwars #mandalorian #hotwheels #bobafett #toy #walmart #seriously #isthatreal #vandalorian #ford #transitsupervan #themandalorian #collectible #starwarsblogger #starwarsfan #starwarsnerd #nerd #nerdgirl #superfan #blogger pic.twitter.com/ISI7lbPFG2\n",
      "Username: Kaizukith |  Tweet: I've watched episode S01E01 of The Mandalorian. #mandalorian #tvtime  https://tvtime.com/r/1epSq  pic.twitter.com/RINhFAwLp9\n",
      "Username: 1Michia |  Tweet: I'm not even a Star Wars fan but I'm out here showing folks pic of #BabyYoda like he mine. Like this him after his nap & here he's trying to use the force. He's such a sweet baby. 😄😄😄😄 #Mandalorian  pic.twitter.com/ZMMunTbHVj\n",
      "Username: BREYQUICK |  Tweet: We watching The  #Mandalorian these days\n",
      "Username: Ghostfreehood |  Tweet: Getting gnarly #workinprogress #mandalorian  pic.twitter.com/UsftKZ6Yh9\n",
      "Username: razilane |  Tweet: Am I the only one who finds baby Yoda kinda creepy? #Mandalorian\n",
      "Username: FeelsAndOTPs |  Tweet: I've just watched episode S01E03 of The Mandalorian! #mandalorian #tvtime  https://tvtime.com/r/1epRd  pic.twitter.com/LDsqWEkGqt\n",
      "Username: SvalaArt |  Tweet: Started something new today :)  #art #Mandalorian #BobaFett #oilpainting #artist #fanart pic.twitter.com/7ayWCZxzk5\n",
      "Username: v00deaux |  Tweet: This is the way. - Mandalorian #StarWars #Mandalorian\n",
      "Username: jaclynfurnier |  Tweet: If Baby #yoda was a 🐱 #Mandalorian  https://youtu.be/dh4uUt3Bbjs \n",
      "Username: BIGDaddio29 |  Tweet: Jango n Boba deserve to be recognized as #Mandalorian #BobaFett is da reason why da Mandalorian were created in da 1st place THAT 1 armor sparked an entire culture in 1 character  As such I took da liberty of readdin em where they rightfully belong wiv da recognition they deserve  https://twitter.com/BIGDaddio29/status/1200898964620488705 … pic.twitter.com/MBm6taiA66\n"
     ]
    }
   ],
   "source": [
    "c = twint.Config()\n",
    "#c.Username = \"apple\"\n",
    "c.Search = \"#Mandalorian\"\n",
    "c.Format = \"Username: {username} |  Tweet: {tweet}\"\n",
    "c.Lang = \"en\"\n",
    "c.Limit = 10\n",
    "c.Store_csv = True \n",
    "## Custom the output ##\n",
    "#c.Custom[\"Tweet\"] = [\"tweet\"]\n",
    "#c.Custom[\"Date\"] = [\"date\"]\n",
    "\n",
    "c.Output = \"twitter.csv\"\n",
    "#c.Pandas = True\n",
    "twint.run.Search(c)"
   ]
  },
  {
   "cell_type": "code",
   "execution_count": 89,
   "metadata": {},
   "outputs": [],
   "source": [
    "df_tweet = pd.read_csv(\"twitter.csv\") "
   ]
  },
  {
   "cell_type": "code",
   "execution_count": 153,
   "metadata": {},
   "outputs": [
    {
     "data": {
      "text/html": [
       "<div>\n",
       "<style scoped>\n",
       "    .dataframe tbody tr th:only-of-type {\n",
       "        vertical-align: middle;\n",
       "    }\n",
       "\n",
       "    .dataframe tbody tr th {\n",
       "        vertical-align: top;\n",
       "    }\n",
       "\n",
       "    .dataframe thead th {\n",
       "        text-align: right;\n",
       "    }\n",
       "</style>\n",
       "<table border=\"1\" class=\"dataframe\">\n",
       "  <thead>\n",
       "    <tr style=\"text-align: right;\">\n",
       "      <th></th>\n",
       "      <th>tweet</th>\n",
       "    </tr>\n",
       "  </thead>\n",
       "  <tbody>\n",
       "    <tr>\n",
       "      <td>0</td>\n",
       "      <td>I've watched episode S01E01 of The Mandalorian...</td>\n",
       "    </tr>\n",
       "  </tbody>\n",
       "</table>\n",
       "</div>"
      ],
      "text/plain": [
       "                                               tweet\n",
       "0  I've watched episode S01E01 of The Mandalorian..."
      ]
     },
     "execution_count": 153,
     "metadata": {},
     "output_type": "execute_result"
    }
   ],
   "source": [
    "df_tweet[:1]"
   ]
  },
  {
   "cell_type": "code",
   "execution_count": 149,
   "metadata": {},
   "outputs": [],
   "source": [
    "def Clean(dataframe):\n",
    "    #Remove non ASCII characters:\n",
    "    dataframe = dataframe.encode('ascii','ignore')\n",
    "    dataframe = dataframe.decode('utf8')\n",
    "    \n",
    "    #Remove URLs : \n",
    "    dataframe = re.sub('http\\S+\\s*','',dataframe)  \n",
    "    \n",
    "    \n",
    "    #removing mentions:\n",
    "    dataframe = re.sub('rt|cc','',dataframe) #Remove RT and cc\n",
    "    dataframe = re.sub('#\\S+','',dataframe) #Remove hashtags\n",
    "    \n",
    "    dataframe = dataframe.lower() #Converting to lowercase\n",
    "    #dataframe = re.sub(r'\\d+', '', dataframe) #Removing numbers\n",
    "    dataframe = re.sub(r'[^a-zA-Z0-9\\s]', '', dataframe) #Removing punctuations\n",
    "    dataframe = dataframe.strip() #remove white spaces\n",
    "    dataframe = re.sub('pictw\\S+\\s*','',dataframe)\n",
    "    \n",
    "    #Tokenize: \n",
    "    word_tokens = word_tokenize(dataframe)\n",
    "    \n",
    "    #Words stops\n",
    "    stop_words=set(stopwords.words('english'))\n",
    "\n",
    "    filtered_tweet = []\n",
    "    filtered_tweet = [w for w in word_tokens if not w in stop_words]\n",
    "     \n",
    "    return ' '.join(filtered_tweet)"
   ]
  },
  {
   "cell_type": "code",
   "execution_count": 150,
   "metadata": {},
   "outputs": [],
   "source": [
    "df_tweet_clean = df_tweet['tweet'].apply(Clean)\n",
    "#preproctest(df_tweet)"
   ]
  },
  {
   "cell_type": "code",
   "execution_count": null,
   "metadata": {},
   "outputs": [],
   "source": []
  },
  {
   "cell_type": "code",
   "execution_count": 154,
   "metadata": {},
   "outputs": [
    {
     "name": "stdout",
     "output_type": "stream",
     "text": [
      "ive watched episode s01e01 mandalorian\n",
      "Sentiment(polarity=0.0, subjectivity=0.0)\n"
     ]
    },
    {
     "data": {
      "text/markdown": [
       "<span style='color:grey'>Neutre</span>"
      ],
      "text/plain": [
       "<IPython.core.display.Markdown object>"
      ]
     },
     "metadata": {},
     "output_type": "display_data"
    },
    {
     "name": "stdout",
     "output_type": "stream",
     "text": [
      "\n",
      "im even star wars fan im showing folks pic like mine like nap hes trying use force hes sweet baby\n",
      "Sentiment(polarity=0.35, subjectivity=0.65)\n"
     ]
    },
    {
     "data": {
      "text/markdown": [
       "<span style='color:green'>Positive</span>"
      ],
      "text/plain": [
       "<IPython.core.display.Markdown object>"
      ]
     },
     "metadata": {},
     "output_type": "display_data"
    },
    {
     "name": "stdout",
     "output_type": "stream",
     "text": [
      "watching days\n",
      "Sentiment(polarity=0.0, subjectivity=0.0)\n"
     ]
    },
    {
     "data": {
      "text/markdown": [
       "<span style='color:grey'>Neutre</span>"
      ],
      "text/plain": [
       "<IPython.core.display.Markdown object>"
      ]
     },
     "metadata": {},
     "output_type": "display_data"
    },
    {
     "name": "stdout",
     "output_type": "stream",
     "text": [
      "\n",
      "getting gnarly\n",
      "Sentiment(polarity=0.0, subjectivity=0.0)\n"
     ]
    },
    {
     "data": {
      "text/markdown": [
       "<span style='color:grey'>Neutre</span>"
      ],
      "text/plain": [
       "<IPython.core.display.Markdown object>"
      ]
     },
     "metadata": {},
     "output_type": "display_data"
    },
    {
     "name": "stdout",
     "output_type": "stream",
     "text": [
      "\n",
      "one finds baby yoda kinda creepy\n",
      "Sentiment(polarity=-0.5, subjectivity=1.0)\n"
     ]
    },
    {
     "data": {
      "text/markdown": [
       "<span style='color:red'>Negative</span>"
      ],
      "text/plain": [
       "<IPython.core.display.Markdown object>"
      ]
     },
     "metadata": {},
     "output_type": "display_data"
    },
    {
     "name": "stdout",
     "output_type": "stream",
     "text": [
      "ive watched episode s01e03 mandalorian\n",
      "Sentiment(polarity=0.0, subjectivity=0.0)\n"
     ]
    },
    {
     "data": {
      "text/markdown": [
       "<span style='color:grey'>Neutre</span>"
      ],
      "text/plain": [
       "<IPython.core.display.Markdown object>"
      ]
     },
     "metadata": {},
     "output_type": "display_data"
    },
    {
     "name": "stdout",
     "output_type": "stream",
     "text": [
      "\n",
      "staed something new today\n",
      "Sentiment(polarity=0.13636363636363635, subjectivity=0.45454545454545453)\n"
     ]
    },
    {
     "data": {
      "text/markdown": [
       "<span style='color:green'>Positive</span>"
      ],
      "text/plain": [
       "<IPython.core.display.Markdown object>"
      ]
     },
     "metadata": {},
     "output_type": "display_data"
    },
    {
     "name": "stdout",
     "output_type": "stream",
     "text": [
      "way mandalorian\n",
      "Sentiment(polarity=0.0, subjectivity=0.0)\n"
     ]
    },
    {
     "data": {
      "text/markdown": [
       "<span style='color:grey'>Neutre</span>"
      ],
      "text/plain": [
       "<IPython.core.display.Markdown object>"
      ]
     },
     "metadata": {},
     "output_type": "display_data"
    },
    {
     "name": "stdout",
     "output_type": "stream",
     "text": [
      "\n",
      "baby\n",
      "Sentiment(polarity=0.0, subjectivity=0.0)\n"
     ]
    },
    {
     "data": {
      "text/markdown": [
       "<span style='color:grey'>Neutre</span>"
      ],
      "text/plain": [
       "<IPython.core.display.Markdown object>"
      ]
     },
     "metadata": {},
     "output_type": "display_data"
    },
    {
     "name": "stdout",
     "output_type": "stream",
     "text": [
      "\n",
      "jango n boba deserve recognized da reason da mandalorian created da 1st place 1 armor sparked entire culture 1 character took da libey readdin em rightfully belong wiv da recognition deserve\n",
      "Sentiment(polarity=0.0, subjectivity=0.625)\n"
     ]
    },
    {
     "data": {
      "text/markdown": [
       "<span style='color:grey'>Neutre</span>"
      ],
      "text/plain": [
       "<IPython.core.display.Markdown object>"
      ]
     },
     "metadata": {},
     "output_type": "display_data"
    },
    {
     "name": "stdout",
     "output_type": "stream",
     "text": [
      "\n",
      "introduced little cutie\n",
      "Sentiment(polarity=-0.1875, subjectivity=0.5)\n"
     ]
    },
    {
     "data": {
      "text/markdown": [
       "<span style='color:red'>Negative</span>"
      ],
      "text/plain": [
       "<IPython.core.display.Markdown object>"
      ]
     },
     "metadata": {},
     "output_type": "display_data"
    },
    {
     "name": "stdout",
     "output_type": "stream",
     "text": [
      "hey look iratheanimator animated charming walk cycle mandolorian drawing\n",
      "Sentiment(polarity=0.7, subjectivity=1.0)\n"
     ]
    },
    {
     "data": {
      "text/markdown": [
       "<span style='color:green'>Positive</span>"
      ],
      "text/plain": [
       "<IPython.core.display.Markdown object>"
      ]
     },
     "metadata": {},
     "output_type": "display_data"
    },
    {
     "name": "stdout",
     "output_type": "stream",
     "text": [
      "junping mandalorianhelmetbuilt bandwagon chinbeard family\n",
      "Sentiment(polarity=0.0, subjectivity=0.0)\n"
     ]
    },
    {
     "data": {
      "text/markdown": [
       "<span style='color:grey'>Neutre</span>"
      ],
      "text/plain": [
       "<IPython.core.display.Markdown object>"
      ]
     },
     "metadata": {},
     "output_type": "display_data"
    },
    {
     "name": "stdout",
     "output_type": "stream",
     "text": [
      "\n",
      "one thinks dr pershing looks like michael odonoghue\n",
      "Sentiment(polarity=0.0, subjectivity=0.0)\n"
     ]
    },
    {
     "data": {
      "text/markdown": [
       "<span style='color:grey'>Neutre</span>"
      ],
      "text/plain": [
       "<IPython.core.display.Markdown object>"
      ]
     },
     "metadata": {},
     "output_type": "display_data"
    },
    {
     "name": "stdout",
     "output_type": "stream",
     "text": [
      "\n",
      "life good stop bullshit im done politics trying figure whats politically correct offend keep ass space youve watched good\n",
      "Sentiment(polarity=0.4666666666666666, subjectivity=0.4333333333333334)\n"
     ]
    },
    {
     "data": {
      "text/markdown": [
       "<span style='color:green'>Positive</span>"
      ],
      "text/plain": [
       "<IPython.core.display.Markdown object>"
      ]
     },
     "metadata": {},
     "output_type": "display_data"
    },
    {
     "name": "stdout",
     "output_type": "stream",
     "text": [
      "theme music stas ish lowkey slaps\n",
      "Sentiment(polarity=0.0, subjectivity=0.0)\n"
     ]
    },
    {
     "data": {
      "text/markdown": [
       "<span style='color:grey'>Neutre</span>"
      ],
      "text/plain": [
       "<IPython.core.display.Markdown object>"
      ]
     },
     "metadata": {},
     "output_type": "display_data"
    },
    {
     "name": "stdout",
     "output_type": "stream",
     "text": [
      "\n",
      "wellginacarano cara dune im love cant wait next appearance total badass\n",
      "Sentiment(polarity=0.16666666666666666, subjectivity=0.45)\n"
     ]
    },
    {
     "data": {
      "text/markdown": [
       "<span style='color:green'>Positive</span>"
      ],
      "text/plain": [
       "<IPython.core.display.Markdown object>"
      ]
     },
     "metadata": {},
     "output_type": "display_data"
    },
    {
     "name": "stdout",
     "output_type": "stream",
     "text": [
      "getting caught like\n",
      "Sentiment(polarity=0.0, subjectivity=0.0)\n"
     ]
    },
    {
     "data": {
      "text/markdown": [
       "<span style='color:grey'>Neutre</span>"
      ],
      "text/plain": [
       "<IPython.core.display.Markdown object>"
      ]
     },
     "metadata": {},
     "output_type": "display_data"
    },
    {
     "name": "stdout",
     "output_type": "stream",
     "text": [
      "\n",
      "stranger things theme slaps amnesty theme slaps theme l p\n",
      "Sentiment(polarity=0.0, subjectivity=0.0)\n"
     ]
    },
    {
     "data": {
      "text/markdown": [
       "<span style='color:grey'>Neutre</span>"
      ],
      "text/plain": [
       "<IPython.core.display.Markdown object>"
      ]
     },
     "metadata": {},
     "output_type": "display_data"
    },
    {
     "name": "stdout",
     "output_type": "stream",
     "text": [
      "\n",
      "bryce dallas howard amazing episode\n",
      "Sentiment(polarity=0.6000000000000001, subjectivity=0.9)\n"
     ]
    },
    {
     "data": {
      "text/markdown": [
       "<span style='color:green'>Positive</span>"
      ],
      "text/plain": [
       "<IPython.core.display.Markdown object>"
      ]
     },
     "metadata": {},
     "output_type": "display_data"
    },
    {
     "name": "stdout",
     "output_type": "stream",
     "text": [
      "way today 23rd bihday star wars fans\n",
      "Sentiment(polarity=0.0, subjectivity=0.0)\n"
     ]
    },
    {
     "data": {
      "text/markdown": [
       "<span style='color:grey'>Neutre</span>"
      ],
      "text/plain": [
       "<IPython.core.display.Markdown object>"
      ]
     },
     "metadata": {},
     "output_type": "display_data"
    },
    {
     "name": "stdout",
     "output_type": "stream",
     "text": [
      "\n",
      "sold go sign ale hes back stock\n",
      "Sentiment(polarity=0.0, subjectivity=0.0)\n"
     ]
    },
    {
     "data": {
      "text/markdown": [
       "<span style='color:grey'>Neutre</span>"
      ],
      "text/plain": [
       "<IPython.core.display.Markdown object>"
      ]
     },
     "metadata": {},
     "output_type": "display_data"
    },
    {
     "name": "stdout",
     "output_type": "stream",
     "text": [
      "\n",
      "sunday think piss people review bad nearly unwatchable imo plot predictable dialogue stilted cliche otn main character boring im huge sf fan 50yrs one worst\n",
      "Sentiment(polarity=-0.3190476190476191, subjectivity=0.6857142857142857)\n"
     ]
    },
    {
     "data": {
      "text/markdown": [
       "<span style='color:red'>Negative</span>"
      ],
      "text/plain": [
       "<IPython.core.display.Markdown object>"
      ]
     },
     "metadata": {},
     "output_type": "display_data"
    },
    {
     "name": "stdout",
     "output_type": "stream",
     "text": [
      "hey jonfavreau thanks saving us\n",
      "Sentiment(polarity=0.2, subjectivity=0.2)\n"
     ]
    },
    {
     "data": {
      "text/markdown": [
       "<span style='color:green'>Positive</span>"
      ],
      "text/plain": [
       "<IPython.core.display.Markdown object>"
      ]
     },
     "metadata": {},
     "output_type": "display_data"
    },
    {
     "name": "stdout",
     "output_type": "stream",
     "text": [
      "way sta mandalorian suit build staing helmet always sunshine coast queensland\n",
      "Sentiment(polarity=0.0, subjectivity=0.0)\n"
     ]
    },
    {
     "data": {
      "text/markdown": [
       "<span style='color:grey'>Neutre</span>"
      ],
      "text/plain": [
       "<IPython.core.display.Markdown object>"
      ]
     },
     "metadata": {},
     "output_type": "display_data"
    },
    {
     "name": "stdout",
     "output_type": "stream",
     "text": [
      "\n",
      "excellent\n",
      "Sentiment(polarity=1.0, subjectivity=1.0)\n"
     ]
    },
    {
     "data": {
      "text/markdown": [
       "<span style='color:green'>Positive</span>"
      ],
      "text/plain": [
       "<IPython.core.display.Markdown object>"
      ]
     },
     "metadata": {},
     "output_type": "display_data"
    },
    {
     "name": "stdout",
     "output_type": "stream",
     "text": [
      "waiting disney roll next series baby chewy time milk cash cow\n",
      "Sentiment(polarity=-0.06666666666666667, subjectivity=0.08333333333333333)\n"
     ]
    },
    {
     "data": {
      "text/markdown": [
       "<span style='color:red'>Negative</span>"
      ],
      "text/plain": [
       "<IPython.core.display.Markdown object>"
      ]
     },
     "metadata": {},
     "output_type": "display_data"
    },
    {
     "name": "stdout",
     "output_type": "stream",
     "text": [
      "please beg scenes awkwardly trying parent baby yoda giving 100 pure joy\n",
      "Sentiment(polarity=0.13809523809523813, subjectivity=0.5666666666666667)\n"
     ]
    },
    {
     "data": {
      "text/markdown": [
       "<span style='color:green'>Positive</span>"
      ],
      "text/plain": [
       "<IPython.core.display.Markdown object>"
      ]
     },
     "metadata": {},
     "output_type": "display_data"
    },
    {
     "name": "stdout",
     "output_type": "stream",
     "text": [
      "james turning absolutely incredible\n",
      "Sentiment(polarity=0.9, subjectivity=0.9)\n"
     ]
    },
    {
     "data": {
      "text/markdown": [
       "<span style='color:green'>Positive</span>"
      ],
      "text/plain": [
       "<IPython.core.display.Markdown object>"
      ]
     },
     "metadata": {},
     "output_type": "display_data"
    },
    {
     "name": "stdout",
     "output_type": "stream",
     "text": [
      "would call thisa vandalorian\n",
      "Sentiment(polarity=0.0, subjectivity=0.0)\n"
     ]
    },
    {
     "data": {
      "text/markdown": [
       "<span style='color:grey'>Neutre</span>"
      ],
      "text/plain": [
       "<IPython.core.display.Markdown object>"
      ]
     },
     "metadata": {},
     "output_type": "display_data"
    },
    {
     "name": "stdout",
     "output_type": "stream",
     "text": [
      "\n",
      "ive watched episode s01e01 mandalorian\n",
      "Sentiment(polarity=0.0, subjectivity=0.0)\n"
     ]
    },
    {
     "data": {
      "text/markdown": [
       "<span style='color:grey'>Neutre</span>"
      ],
      "text/plain": [
       "<IPython.core.display.Markdown object>"
      ]
     },
     "metadata": {},
     "output_type": "display_data"
    },
    {
     "name": "stdout",
     "output_type": "stream",
     "text": [
      "\n",
      "im even star wars fan im showing folks pic like mine like nap hes trying use force hes sweet baby\n",
      "Sentiment(polarity=0.35, subjectivity=0.65)\n"
     ]
    },
    {
     "data": {
      "text/markdown": [
       "<span style='color:green'>Positive</span>"
      ],
      "text/plain": [
       "<IPython.core.display.Markdown object>"
      ]
     },
     "metadata": {},
     "output_type": "display_data"
    },
    {
     "name": "stdout",
     "output_type": "stream",
     "text": [
      "watching days\n",
      "Sentiment(polarity=0.0, subjectivity=0.0)\n"
     ]
    },
    {
     "data": {
      "text/markdown": [
       "<span style='color:grey'>Neutre</span>"
      ],
      "text/plain": [
       "<IPython.core.display.Markdown object>"
      ]
     },
     "metadata": {},
     "output_type": "display_data"
    },
    {
     "name": "stdout",
     "output_type": "stream",
     "text": [
      "\n",
      "getting gnarly\n",
      "Sentiment(polarity=0.0, subjectivity=0.0)\n"
     ]
    },
    {
     "data": {
      "text/markdown": [
       "<span style='color:grey'>Neutre</span>"
      ],
      "text/plain": [
       "<IPython.core.display.Markdown object>"
      ]
     },
     "metadata": {},
     "output_type": "display_data"
    },
    {
     "name": "stdout",
     "output_type": "stream",
     "text": [
      "\n",
      "one finds baby yoda kinda creepy\n",
      "Sentiment(polarity=-0.5, subjectivity=1.0)\n"
     ]
    },
    {
     "data": {
      "text/markdown": [
       "<span style='color:red'>Negative</span>"
      ],
      "text/plain": [
       "<IPython.core.display.Markdown object>"
      ]
     },
     "metadata": {},
     "output_type": "display_data"
    },
    {
     "name": "stdout",
     "output_type": "stream",
     "text": [
      "ive watched episode s01e03 mandalorian\n",
      "Sentiment(polarity=0.0, subjectivity=0.0)\n"
     ]
    },
    {
     "data": {
      "text/markdown": [
       "<span style='color:grey'>Neutre</span>"
      ],
      "text/plain": [
       "<IPython.core.display.Markdown object>"
      ]
     },
     "metadata": {},
     "output_type": "display_data"
    },
    {
     "name": "stdout",
     "output_type": "stream",
     "text": [
      "\n",
      "staed something new today\n",
      "Sentiment(polarity=0.13636363636363635, subjectivity=0.45454545454545453)\n"
     ]
    },
    {
     "data": {
      "text/markdown": [
       "<span style='color:green'>Positive</span>"
      ],
      "text/plain": [
       "<IPython.core.display.Markdown object>"
      ]
     },
     "metadata": {},
     "output_type": "display_data"
    },
    {
     "name": "stdout",
     "output_type": "stream",
     "text": [
      "way mandalorian\n",
      "Sentiment(polarity=0.0, subjectivity=0.0)\n"
     ]
    },
    {
     "data": {
      "text/markdown": [
       "<span style='color:grey'>Neutre</span>"
      ],
      "text/plain": [
       "<IPython.core.display.Markdown object>"
      ]
     },
     "metadata": {},
     "output_type": "display_data"
    },
    {
     "name": "stdout",
     "output_type": "stream",
     "text": [
      "\n",
      "baby\n",
      "Sentiment(polarity=0.0, subjectivity=0.0)\n"
     ]
    },
    {
     "data": {
      "text/markdown": [
       "<span style='color:grey'>Neutre</span>"
      ],
      "text/plain": [
       "<IPython.core.display.Markdown object>"
      ]
     },
     "metadata": {},
     "output_type": "display_data"
    },
    {
     "name": "stdout",
     "output_type": "stream",
     "text": [
      "\n",
      "jango n boba deserve recognized da reason da mandalorian created da 1st place 1 armor sparked entire culture 1 character took da libey readdin em rightfully belong wiv da recognition deserve\n",
      "Sentiment(polarity=0.0, subjectivity=0.625)\n"
     ]
    },
    {
     "data": {
      "text/markdown": [
       "<span style='color:grey'>Neutre</span>"
      ],
      "text/plain": [
       "<IPython.core.display.Markdown object>"
      ]
     },
     "metadata": {},
     "output_type": "display_data"
    },
    {
     "name": "stdout",
     "output_type": "stream",
     "text": [
      "\n"
     ]
    }
   ],
   "source": [
    "from textblob import TextBlob\n",
    "from IPython.display import Markdown, display\n",
    "# Pretty printing the result\n",
    "def printmd(string, color=None):\n",
    "    colorstr = \"<span style='color:{}'>{}</span>\".format(color, string)\n",
    "    display(Markdown(colorstr))\n",
    "for tweet in df_tweet_clean:\n",
    "    print(tweet)\n",
    "    analysis = TextBlob(tweet)\n",
    "    print(analysis.sentiment)\n",
    "    if analysis.sentiment[0]>0:\n",
    "        printmd('Positive', color=\"green\")\n",
    "    elif analysis.sentiment[0]<0:\n",
    "        printmd('Negative', color=\"red\")\n",
    "    else:\n",
    "        printmd(\"Neutre\", color=\"grey\")\n",
    "        print(\"\")"
   ]
  },
  {
   "cell_type": "code",
   "execution_count": null,
   "metadata": {},
   "outputs": [],
   "source": []
  },
  {
   "cell_type": "code",
   "execution_count": null,
   "metadata": {},
   "outputs": [],
   "source": []
  }
 ],
 "metadata": {
  "kernelspec": {
   "display_name": "Python 3",
   "language": "python",
   "name": "python3"
  },
  "language_info": {
   "codemirror_mode": {
    "name": "ipython",
    "version": 3
   },
   "file_extension": ".py",
   "mimetype": "text/x-python",
   "name": "python",
   "nbconvert_exporter": "python",
   "pygments_lexer": "ipython3",
   "version": "3.7.4"
  }
 },
 "nbformat": 4,
 "nbformat_minor": 2
}
